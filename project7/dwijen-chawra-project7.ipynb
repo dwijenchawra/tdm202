{
 "cells": [
  {
   "attachments": {},
   "cell_type": "markdown",
   "id": "be02a957-7133-4d02-818e-fedeb3cecb05",
   "metadata": {},
   "source": [
    "# Project 7 -- Dwijen Chawra"
   ]
  },
  {
   "cell_type": "markdown",
   "id": "6180e742-8e39-4698-98ff-5b00c8cf8ea0",
   "metadata": {},
   "source": [
    "## Question 1"
   ]
  },
  {
   "attachments": {},
   "cell_type": "markdown",
   "id": "b456e57c-4a12-464b-999a-ef2df5af80c1",
   "metadata": {},
   "source": [
    "1: I think that this poster did a really good job in comparing the different airlines with the different colors in the heatmaps. I was able to discern all the different times.\n",
    "\n",
    "2: I think that the main visualization on this poster is not quite insightful, it just drew a lot of purple lines on the map. The plots about smaller but more interesting details should have been highlighted more.\n",
    "\n",
    "3: Overall I think that this poster did a good job in showing the different times of the year and the specific highlights about certain points on the main graph were interesting. \n",
    "\n",
    "4: This poster is very organized and tells me a lot about the pathways that the algorithm takes. I was able to understand the different steps that the shortest path algorithm takes.\n",
    "\n",
    "5: Since this is a data expo, I think that the poster should have been more focused on the data and less on the code behind the production of the data.\n",
    "\n",
    "6: I think that this was a excellent poster, I was able to learn a lot from the visualizations shown on the poster about the flight on time performance, and there was a clear flow in between the different visualizations.\n",
    "\n",
    "7: This poster did a great job of separating the main timeline of the data into smaller sections with the important features individually highlighted.\n",
    "\n",
    "8: This poster has a clear start and end to its analysis, and I was able to learn a lot from the conclusion of the poster."
   ]
  },
  {
   "cell_type": "markdown",
   "id": "fc601975-35ed-4680-a4e1-0273ee3cc047",
   "metadata": {},
   "source": [
    "## Question 2"
   ]
  },
  {
   "attachments": {},
   "cell_type": "markdown",
   "id": "a16336a1-1ef0-41e8-bc7c-49387db27497",
   "metadata": {},
   "source": [
    "1: It is important to plot the variable of interest, rather than a supplementary variable, because it is the variable of interest that we are trying to analyze. If we plot a supplementary variable, we are not able to clearly see trends in the main variable. \n",
    "\n",
    "2: It is important to order the variables in a plot in a way that makes sense to the reader, and allows for the reader to see visual trends in the data because it helps a lot with rough analysis of the data."
   ]
  },
  {
   "cell_type": "markdown",
   "id": "8e586edd-ff26-4ce2-8f6b-2424b26f2929",
   "metadata": {},
   "source": [
    "## Question 3"
   ]
  },
  {
   "cell_type": "code",
   "execution_count": null,
   "id": "bbe0f40d-9655-4653-9ca8-886bdb61cb91",
   "metadata": {},
   "outputs": [],
   "source": [
    "# /anvil/projects/tdm/data/flights/subset/*.csv\n",
    "\n",
    "\n",
    "import pandas as pd\n",
    "import plotly.express as px\n",
    "\n",
    "# Read the CSV files into a DataFrame\n",
    "dataframes = []\n",
    "for year in range(1987, 2007):\n",
    "    filename = f\"/anvil/projects/tdm/data/flights/subset/{year}.csv\"\n",
    "    df = pd.read_csv(filename)\n",
    "    dataframes.append(df)\n",
    "\n",
    "# Concatenate the dataframes into a single DataFrame\n",
    "df = pd.concat(dataframes)\n",
    "\n",
    "# Calculate the average delay for each year\n",
    "avg_delay_by_year = df.groupby('Year')['ArrDelay'].mean().reset_index()\n",
    "\n",
    "# Create a Plotly line chart\n",
    "fig = px.line(avg_delay_by_year, x='Year', y='ArrDelay', title='Average Delay by Year')\n",
    "fig.show()\n",
    "\n",
    "\n",
    "\n",
    "\n",
    "\n"
   ]
  },
  {
   "cell_type": "markdown",
   "id": "47c6229f-35f7-400c-8366-c442baa5cf47",
   "metadata": {},
   "source": [
    "Markdown notes and sentences and analysis written here."
   ]
  },
  {
   "cell_type": "markdown",
   "id": "da22f29c-d245-4d2b-9fc1-ca14cb6087d9",
   "metadata": {},
   "source": [
    "## Question 4"
   ]
  },
  {
   "cell_type": "code",
   "execution_count": null,
   "id": "8cffc767-d1c8-4d64-b7dc-f0d2ee8a80d1",
   "metadata": {},
   "outputs": [],
   "source": []
  },
  {
   "cell_type": "markdown",
   "id": "0d552245-b4d6-474a-9cc9-fa7b8e674d55",
   "metadata": {},
   "source": [
    "Markdown notes and sentences and analysis written here."
   ]
  },
  {
   "cell_type": "markdown",
   "id": "88c9cdac-3e92-498f-83fa-e089bfc44ac8",
   "metadata": {},
   "source": [
    "## Question 5"
   ]
  },
  {
   "cell_type": "code",
   "execution_count": null,
   "id": "d370d7c9-06db-42b9-b75f-240481a5c491",
   "metadata": {},
   "outputs": [],
   "source": []
  },
  {
   "cell_type": "code",
   "execution_count": null,
   "id": "dadcbcaf",
   "metadata": {},
   "outputs": [],
   "source": []
  },
  {
   "attachments": {},
   "cell_type": "markdown",
   "id": "9fbf00fb-2418-460f-ae94-2a32b0c28952",
   "metadata": {},
   "source": [
    "This is the average requests per second the server can respond to."
   ]
  },
  {
   "cell_type": "markdown",
   "id": "f76442d6-d02e-4f26-b9d6-c3183e1d6929",
   "metadata": {},
   "source": [
    "## Pledge\n",
    "\n",
    "By submitting this work I hereby pledge that this is my own, personal work. I've acknowledged in the designated place at the top of this file all sources that I used to complete said work, including but not limited to: online resources, books, and electronic communications. I've noted all collaboration with fellow students and/or TA's. I did not copy or plagiarize another's work.\n",
    "\n",
    "> As a Boilermaker pursuing academic excellence, I pledge to be honest and true in all that I do. Accountable together – We are Purdue."
   ]
  }
 ],
 "metadata": {
  "kernelspec": {
   "display_name": "Python 3",
   "language": "python",
   "name": "python3"
  },
  "language_info": {
   "codemirror_mode": "r",
   "file_extension": ".r",
   "mimetype": "text/x-r-source",
   "name": "python",
   "pygments_lexer": "r",
   "version": "3.8.8"
  }
 },
 "nbformat": 4,
 "nbformat_minor": 5
}
