{
 "cells": [
  {
   "attachments": {},
   "cell_type": "markdown",
   "id": "be02a957-7133-4d02-818e-fedeb3cecb05",
   "metadata": {},
   "source": [
    "# Project 3 -- Dwijen Chawra"
   ]
  },
  {
   "cell_type": "markdown",
   "id": "6180e742-8e39-4698-98ff-5b00c8cf8ea0",
   "metadata": {},
   "source": [
    "## Question 1"
   ]
  },
  {
   "cell_type": "code",
   "execution_count": 2,
   "id": "a82671be",
   "metadata": {},
   "outputs": [],
   "source": [
    "import time\n",
    "import uuid\n",
    "from selenium import webdriver\n",
    "from selenium.webdriver.firefox.options import Options\n",
    "from selenium.webdriver.common.desired_capabilities import DesiredCapabilities\n",
    "from selenium.webdriver.common.keys import Keys\n",
    "from selenium.common.exceptions import StaleElementReferenceException\n",
    "\n",
    "firefox_options = Options()\n",
    "firefox_options.add_argument(\"--window-size=810,1080\")\n",
    "# Headless mode means no GUI\n",
    "firefox_options.add_argument(\"--headless\")\n",
    "firefox_options.add_argument(\"--disable-extensions\")\n",
    "firefox_options.add_argument(\"--no-sandbox\")\n",
    "firefox_options.add_argument(\"--disable-dev-shm-usage\")\n",
    "\n",
    "driver = webdriver.Firefox(options=firefox_options)\n",
    "driver.quit()\n"
   ]
  },
  {
   "cell_type": "code",
   "execution_count": 4,
   "id": "093a3ece",
   "metadata": {},
   "outputs": [
    {
     "name": "stdout",
     "output_type": "stream",
     "text": [
      "[<selenium.webdriver.remote.webelement.WebElement (session=\"d07ebfe7-6cc8-41f2-b177-bc2b7153aa5c\", element=\"645516a8-66e6-42a1-81d1-f433838021ed\")>, <selenium.webdriver.remote.webelement.WebElement (session=\"d07ebfe7-6cc8-41f2-b177-bc2b7153aa5c\", element=\"c40aea13-5514-48b9-929b-a8cce4c8f934\")>, <selenium.webdriver.remote.webelement.WebElement (session=\"d07ebfe7-6cc8-41f2-b177-bc2b7153aa5c\", element=\"aa109804-da23-44a3-b4ff-6973d60776fc\")>, <selenium.webdriver.remote.webelement.WebElement (session=\"d07ebfe7-6cc8-41f2-b177-bc2b7153aa5c\", element=\"c7718750-b94e-40f5-816e-b3fdef7c96b9\")>, <selenium.webdriver.remote.webelement.WebElement (session=\"d07ebfe7-6cc8-41f2-b177-bc2b7153aa5c\", element=\"85744131-61dc-43d0-b3a8-58d7a1f5410c\")>, <selenium.webdriver.remote.webelement.WebElement (session=\"d07ebfe7-6cc8-41f2-b177-bc2b7153aa5c\", element=\"b22523e1-c6ef-4016-b282-c851eca3a6dc\")>, <selenium.webdriver.remote.webelement.WebElement (session=\"d07ebfe7-6cc8-41f2-b177-bc2b7153aa5c\", element=\"47650acb-a0f1-40fd-92bd-d2e4b0caa17d\")>, <selenium.webdriver.remote.webelement.WebElement (session=\"d07ebfe7-6cc8-41f2-b177-bc2b7153aa5c\", element=\"0ebf662f-82ef-41b3-a69f-3871a51f41c9\")>, <selenium.webdriver.remote.webelement.WebElement (session=\"d07ebfe7-6cc8-41f2-b177-bc2b7153aa5c\", element=\"b8ea54f0-e007-4631-957d-77ffd182608d\")>, <selenium.webdriver.remote.webelement.WebElement (session=\"d07ebfe7-6cc8-41f2-b177-bc2b7153aa5c\", element=\"478988dd-a222-49df-ad27-38316c8f3d37\")>, <selenium.webdriver.remote.webelement.WebElement (session=\"d07ebfe7-6cc8-41f2-b177-bc2b7153aa5c\", element=\"31d8a2ed-0532-4831-8ae7-f862d329b7a1\")>, <selenium.webdriver.remote.webelement.WebElement (session=\"d07ebfe7-6cc8-41f2-b177-bc2b7153aa5c\", element=\"7a75203b-5c57-47bd-adff-6492a2253bed\")>, <selenium.webdriver.remote.webelement.WebElement (session=\"d07ebfe7-6cc8-41f2-b177-bc2b7153aa5c\", element=\"061d5c03-1131-4f24-ab55-fc6fca81316e\")>, <selenium.webdriver.remote.webelement.WebElement (session=\"d07ebfe7-6cc8-41f2-b177-bc2b7153aa5c\", element=\"3b7f38a2-853b-427d-b572-1aeb7038e67f\")>, <selenium.webdriver.remote.webelement.WebElement (session=\"d07ebfe7-6cc8-41f2-b177-bc2b7153aa5c\", element=\"34a47602-555a-44ec-9991-efa07b31f55d\")>, <selenium.webdriver.remote.webelement.WebElement (session=\"d07ebfe7-6cc8-41f2-b177-bc2b7153aa5c\", element=\"a0ac0fa8-ccc6-4966-a396-b21d797a64b9\")>, <selenium.webdriver.remote.webelement.WebElement (session=\"d07ebfe7-6cc8-41f2-b177-bc2b7153aa5c\", element=\"bdbbfa25-6723-4a3b-b26e-15972a2c0630\")>, <selenium.webdriver.remote.webelement.WebElement (session=\"d07ebfe7-6cc8-41f2-b177-bc2b7153aa5c\", element=\"5112766f-61ed-490b-b0fe-13b368fe2856\")>, <selenium.webdriver.remote.webelement.WebElement (session=\"d07ebfe7-6cc8-41f2-b177-bc2b7153aa5c\", element=\"c8c35945-b37e-4f9c-a1ec-5f0eef452841\")>, <selenium.webdriver.remote.webelement.WebElement (session=\"d07ebfe7-6cc8-41f2-b177-bc2b7153aa5c\", element=\"272e3907-d7ad-4e87-a2e7-7adae5eb18c2\")>, <selenium.webdriver.remote.webelement.WebElement (session=\"d07ebfe7-6cc8-41f2-b177-bc2b7153aa5c\", element=\"743631c1-8117-4225-8fc8-a6b1a5ee4daa\")>, <selenium.webdriver.remote.webelement.WebElement (session=\"d07ebfe7-6cc8-41f2-b177-bc2b7153aa5c\", element=\"5b318799-1873-426c-b28b-2163c6c79b69\")>, <selenium.webdriver.remote.webelement.WebElement (session=\"d07ebfe7-6cc8-41f2-b177-bc2b7153aa5c\", element=\"b88227c6-d2fa-48ff-b60d-6ccc0fc18a6f\")>, <selenium.webdriver.remote.webelement.WebElement (session=\"d07ebfe7-6cc8-41f2-b177-bc2b7153aa5c\", element=\"fb7490f4-29fa-4c02-a29c-2797d4ee138f\")>, <selenium.webdriver.remote.webelement.WebElement (session=\"d07ebfe7-6cc8-41f2-b177-bc2b7153aa5c\", element=\"f506620f-93ec-450e-95f1-f516aa5b3aaf\")>, <selenium.webdriver.remote.webelement.WebElement (session=\"d07ebfe7-6cc8-41f2-b177-bc2b7153aa5c\", element=\"9800ea95-d07a-4b8a-bf08-65fe07adcb06\")>, <selenium.webdriver.remote.webelement.WebElement (session=\"d07ebfe7-6cc8-41f2-b177-bc2b7153aa5c\", element=\"a0400c51-6478-4d03-a3d6-c1ebfa577811\")>, <selenium.webdriver.remote.webelement.WebElement (session=\"d07ebfe7-6cc8-41f2-b177-bc2b7153aa5c\", element=\"f81b2b64-bb2a-436c-b006-ce0d28d395a0\")>, <selenium.webdriver.remote.webelement.WebElement (session=\"d07ebfe7-6cc8-41f2-b177-bc2b7153aa5c\", element=\"38222b01-ab29-4274-83fe-94e64bcff98b\")>, <selenium.webdriver.remote.webelement.WebElement (session=\"d07ebfe7-6cc8-41f2-b177-bc2b7153aa5c\", element=\"a75e0a20-ad72-416f-a6e6-f7c563203acc\")>, <selenium.webdriver.remote.webelement.WebElement (session=\"d07ebfe7-6cc8-41f2-b177-bc2b7153aa5c\", element=\"03d9854d-6ef6-4ead-9422-b31dcd74d241\")>, <selenium.webdriver.remote.webelement.WebElement (session=\"d07ebfe7-6cc8-41f2-b177-bc2b7153aa5c\", element=\"134fc945-4dbf-46b9-844d-ed2dd6372b8c\")>, <selenium.webdriver.remote.webelement.WebElement (session=\"d07ebfe7-6cc8-41f2-b177-bc2b7153aa5c\", element=\"8111d5b8-edf4-4164-b64d-4178ad2bff88\")>, <selenium.webdriver.remote.webelement.WebElement (session=\"d07ebfe7-6cc8-41f2-b177-bc2b7153aa5c\", element=\"0900800c-1a3e-4a8b-99c6-5b8d01d62a4f\")>, <selenium.webdriver.remote.webelement.WebElement (session=\"d07ebfe7-6cc8-41f2-b177-bc2b7153aa5c\", element=\"63818d84-d053-40d4-b66e-2a3e8b8b89cd\")>, <selenium.webdriver.remote.webelement.WebElement (session=\"d07ebfe7-6cc8-41f2-b177-bc2b7153aa5c\", element=\"3298a0de-55ca-4a58-a1b5-c12384f12530\")>, <selenium.webdriver.remote.webelement.WebElement (session=\"d07ebfe7-6cc8-41f2-b177-bc2b7153aa5c\", element=\"f6a2048f-56cd-4d85-91e2-04fdb6d9155d\")>, <selenium.webdriver.remote.webelement.WebElement (session=\"d07ebfe7-6cc8-41f2-b177-bc2b7153aa5c\", element=\"b52c116d-b513-43b7-a7ed-3dbd86543e83\")>, <selenium.webdriver.remote.webelement.WebElement (session=\"d07ebfe7-6cc8-41f2-b177-bc2b7153aa5c\", element=\"43fe7b2c-ee34-40e6-bae5-57ff52cb0066\")>, <selenium.webdriver.remote.webelement.WebElement (session=\"d07ebfe7-6cc8-41f2-b177-bc2b7153aa5c\", element=\"36f55d5d-b928-4ec0-b61b-6c593e02d3e6\")>]\n"
     ]
    },
    {
     "ename": "IndexError",
     "evalue": "list index out of range",
     "output_type": "error",
     "traceback": [
      "\u001b[0;31m---------------------------------------------------------------------------\u001b[0m",
      "\u001b[0;31mIndexError\u001b[0m                                Traceback (most recent call last)",
      "\u001b[1;32m/home/x-dchawra/tdm202/project3/dwijen-chawra-proj3.ipynb Cell 4\u001b[0m in \u001b[0;36m<cell line: 36>\u001b[0;34m()\u001b[0m\n\u001b[1;32m     <a href='vscode-notebook-cell://ssh-remote%2Bg000/home/x-dchawra/tdm202/project3/dwijen-chawra-proj3.ipynb#X26sdnNjb2RlLXJlbW90ZQ%3D%3D?line=34'>35</a>\u001b[0m zpids \u001b[39m=\u001b[39m []\n\u001b[1;32m     <a href='vscode-notebook-cell://ssh-remote%2Bg000/home/x-dchawra/tdm202/project3/dwijen-chawra-proj3.ipynb#X26sdnNjb2RlLXJlbW90ZQ%3D%3D?line=35'>36</a>\u001b[0m \u001b[39mfor\u001b[39;00m i \u001b[39min\u001b[39;00m \u001b[39mrange\u001b[39m(\u001b[39m2\u001b[39m):\n\u001b[0;32m---> <a href='vscode-notebook-cell://ssh-remote%2Bg000/home/x-dchawra/tdm202/project3/dwijen-chawra-proj3.ipynb#X26sdnNjb2RlLXJlbW90ZQ%3D%3D?line=36'>37</a>\u001b[0m     zpids\u001b[39m.\u001b[39mextend(get_zpid(\u001b[39m\"\u001b[39;49m\u001b[39m32607\u001b[39;49m\u001b[39m\"\u001b[39;49m, i\u001b[39m+\u001b[39;49m\u001b[39m1\u001b[39;49m))\n\u001b[1;32m     <a href='vscode-notebook-cell://ssh-remote%2Bg000/home/x-dchawra/tdm202/project3/dwijen-chawra-proj3.ipynb#X26sdnNjb2RlLXJlbW90ZQ%3D%3D?line=38'>39</a>\u001b[0m zpids\n",
      "\u001b[1;32m/home/x-dchawra/tdm202/project3/dwijen-chawra-proj3.ipynb Cell 4\u001b[0m in \u001b[0;36mget_zpid\u001b[0;34m(search_term, page)\u001b[0m\n\u001b[1;32m     <a href='vscode-notebook-cell://ssh-remote%2Bg000/home/x-dchawra/tdm202/project3/dwijen-chawra-proj3.ipynb#X26sdnNjb2RlLXJlbW90ZQ%3D%3D?line=25'>26</a>\u001b[0m driver\u001b[39m.\u001b[39mget(\u001b[39mf\u001b[39m\u001b[39m\"\u001b[39m\u001b[39mhttps://www.zillow.com/homes/for_sale/32607_rb/\u001b[39m\u001b[39m{\u001b[39;00mpage\u001b[39m}\u001b[39;00m\u001b[39m_p\u001b[39m\u001b[39m\"\u001b[39m)\n\u001b[1;32m     <a href='vscode-notebook-cell://ssh-remote%2Bg000/home/x-dchawra/tdm202/project3/dwijen-chawra-proj3.ipynb#X26sdnNjb2RlLXJlbW90ZQ%3D%3D?line=26'>27</a>\u001b[0m time\u001b[39m.\u001b[39msleep(\u001b[39m5\u001b[39m)\n\u001b[0;32m---> <a href='vscode-notebook-cell://ssh-remote%2Bg000/home/x-dchawra/tdm202/project3/dwijen-chawra-proj3.ipynb#X26sdnNjb2RlLXJlbW90ZQ%3D%3D?line=27'>28</a>\u001b[0m allcards \u001b[39m=\u001b[39m _load_all_cards(driver)\n\u001b[1;32m     <a href='vscode-notebook-cell://ssh-remote%2Bg000/home/x-dchawra/tdm202/project3/dwijen-chawra-proj3.ipynb#X26sdnNjb2RlLXJlbW90ZQ%3D%3D?line=29'>30</a>\u001b[0m driver\u001b[39m.\u001b[39mquit()\n\u001b[1;32m     <a href='vscode-notebook-cell://ssh-remote%2Bg000/home/x-dchawra/tdm202/project3/dwijen-chawra-proj3.ipynb#X26sdnNjb2RlLXJlbW90ZQ%3D%3D?line=30'>31</a>\u001b[0m \u001b[39mprint\u001b[39m(allcards)\n",
      "\u001b[1;32m/home/x-dchawra/tdm202/project3/dwijen-chawra-proj3.ipynb Cell 4\u001b[0m in \u001b[0;36mget_zpid.<locals>._load_all_cards\u001b[0;34m(driver)\u001b[0m\n\u001b[1;32m      <a href='vscode-notebook-cell://ssh-remote%2Bg000/home/x-dchawra/tdm202/project3/dwijen-chawra-proj3.ipynb#X26sdnNjb2RlLXJlbW90ZQ%3D%3D?line=5'>6</a>\u001b[0m \u001b[39mtry\u001b[39;00m:\n\u001b[1;32m      <a href='vscode-notebook-cell://ssh-remote%2Bg000/home/x-dchawra/tdm202/project3/dwijen-chawra-proj3.ipynb#X26sdnNjb2RlLXJlbW90ZQ%3D%3D?line=6'>7</a>\u001b[0m     num_cards \u001b[39m=\u001b[39m \u001b[39mlen\u001b[39m(cards)\n\u001b[0;32m----> <a href='vscode-notebook-cell://ssh-remote%2Bg000/home/x-dchawra/tdm202/project3/dwijen-chawra-proj3.ipynb#X26sdnNjb2RlLXJlbW90ZQ%3D%3D?line=7'>8</a>\u001b[0m     driver\u001b[39m.\u001b[39mexecute_script(\u001b[39m'\u001b[39m\u001b[39marguments[0].scrollIntoView();\u001b[39m\u001b[39m'\u001b[39m, cards[num_cards\u001b[39m-\u001b[39;49m\u001b[39m1\u001b[39;49m])\n\u001b[1;32m      <a href='vscode-notebook-cell://ssh-remote%2Bg000/home/x-dchawra/tdm202/project3/dwijen-chawra-proj3.ipynb#X26sdnNjb2RlLXJlbW90ZQ%3D%3D?line=8'>9</a>\u001b[0m     time\u001b[39m.\u001b[39msleep(\u001b[39m2\u001b[39m)\n\u001b[1;32m     <a href='vscode-notebook-cell://ssh-remote%2Bg000/home/x-dchawra/tdm202/project3/dwijen-chawra-proj3.ipynb#X26sdnNjb2RlLXJlbW90ZQ%3D%3D?line=9'>10</a>\u001b[0m     cards \u001b[39m=\u001b[39m driver\u001b[39m.\u001b[39mfind_elements(\u001b[39m\"\u001b[39m\u001b[39mxpath\u001b[39m\u001b[39m\"\u001b[39m, \u001b[39m\"\u001b[39m\u001b[39m//article[starts-with(@id, \u001b[39m\u001b[39m'\u001b[39m\u001b[39mzpid\u001b[39m\u001b[39m'\u001b[39m\u001b[39m)]\u001b[39m\u001b[39m\"\u001b[39m)\n",
      "\u001b[0;31mIndexError\u001b[0m: list index out of range"
     ]
    }
   ],
   "source": [
    "def get_zpid(search_term: str, page: int = 1):\n",
    "\n",
    "    def _load_all_cards(driver):\n",
    "        cards = driver.find_elements(\"xpath\", \"//article[starts-with(@id, 'zpid')]\")\n",
    "        while True:\n",
    "            try:\n",
    "                num_cards = len(cards)\n",
    "                driver.execute_script('arguments[0].scrollIntoView();', cards[num_cards-1])\n",
    "                time.sleep(2)\n",
    "                cards = driver.find_elements(\"xpath\", \"//article[starts-with(@id, 'zpid')]\")\n",
    "                if num_cards == len(cards):\n",
    "                    break\n",
    "                num_cards = len(cards)\n",
    "            except StaleElementReferenceException:\n",
    "                # every once in a while we will get a StaleElementReferenceException\n",
    "                # because we are trying to access or scroll to an element that has changed.\n",
    "                # this probably means we can skip it because the data has already loaded.\n",
    "                continue\n",
    "\n",
    "        return cards\n",
    "\n",
    "    driver = webdriver.Firefox(options=firefox_options)\n",
    "\n",
    "    results = []\n",
    "\n",
    "    driver.get(f\"https://www.zillow.com/homes/for_sale/32607_rb/{page}_p\")\n",
    "    time.sleep(5)\n",
    "    allcards = _load_all_cards(driver)\n",
    "    \n",
    "    driver.quit()\n",
    "    print(allcards)\n",
    "\n",
    "    return results\n",
    "\n",
    "zpids = []\n",
    "for i in range(2):\n",
    "    zpids.extend(get_zpid(\"32607\", i+1))\n",
    "\n",
    "zpids"
   ]
  },
  {
   "cell_type": "markdown",
   "id": "b456e57c-4a12-464b-999a-ef2df5af80c1",
   "metadata": {},
   "source": [
    "Markdown notes and sentences and analysis written here."
   ]
  },
  {
   "cell_type": "markdown",
   "id": "fc601975-35ed-4680-a4e1-0273ee3cc047",
   "metadata": {},
   "source": [
    "## Question 2"
   ]
  },
  {
   "cell_type": "markdown",
   "id": "14dc22d4-ddc3-41cc-a91a-cb0025bc0c80",
   "metadata": {},
   "source": [
    "Markdown notes and sentences and analysis written here."
   ]
  },
  {
   "cell_type": "markdown",
   "id": "8e586edd-ff26-4ce2-8f6b-2424b26f2929",
   "metadata": {},
   "source": [
    "## Question 3"
   ]
  },
  {
   "cell_type": "markdown",
   "id": "47c6229f-35f7-400c-8366-c442baa5cf47",
   "metadata": {},
   "source": [
    "Markdown notes and sentences and analysis written here."
   ]
  },
  {
   "cell_type": "markdown",
   "id": "da22f29c-d245-4d2b-9fc1-ca14cb6087d9",
   "metadata": {},
   "source": [
    "## Question 4"
   ]
  },
  {
   "cell_type": "markdown",
   "id": "0d552245-b4d6-474a-9cc9-fa7b8e674d55",
   "metadata": {},
   "source": [
    "Markdown notes and sentences and analysis written here."
   ]
  },
  {
   "cell_type": "markdown",
   "id": "88c9cdac-3e92-498f-83fa-e089bfc44ac8",
   "metadata": {},
   "source": [
    "## Question 5"
   ]
  },
  {
   "cell_type": "markdown",
   "id": "9fbf00fb-2418-460f-ae94-2a32b0c28952",
   "metadata": {},
   "source": [
    "Markdown notes and sentences and analysis written here."
   ]
  },
  {
   "cell_type": "markdown",
   "id": "f76442d6-d02e-4f26-b9d6-c3183e1d6929",
   "metadata": {},
   "source": [
    "## Pledge\n",
    "\n",
    "By submitting this work I hereby pledge that this is my own, personal work. I've acknowledged in the designated place at the top of this file all sources that I used to complete said work, including but not limited to: online resources, books, and electronic communications. I've noted all collaboration with fellow students and/or TA's. I did not copy or plagiarize another's work.\n",
    "\n",
    "> As a Boilermaker pursuing academic excellence, I pledge to be honest and true in all that I do. Accountable together – We are Purdue."
   ]
  }
 ],
 "metadata": {
  "kernelspec": {
   "display_name": "f2022-s2023",
   "language": "python",
   "name": "f2022-s2023"
  },
  "language_info": {
   "codemirror_mode": {
    "name": "ipython",
    "version": 3
   },
   "file_extension": ".py",
   "mimetype": "text/x-python",
   "name": "python",
   "nbconvert_exporter": "python",
   "pygments_lexer": "ipython3",
   "version": "3.10.7"
  },
  "vscode": {
   "interpreter": {
    "hash": "916dbcbb3f70747c44a77c7bcd40155683ae19c65e1c03b4aa3499c5328201f1"
   }
  }
 },
 "nbformat": 4,
 "nbformat_minor": 5
}
