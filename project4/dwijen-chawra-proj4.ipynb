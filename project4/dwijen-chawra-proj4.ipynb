{
 "cells": [
  {
   "attachments": {},
   "cell_type": "markdown",
   "id": "be02a957-7133-4d02-818e-fedeb3cecb05",
   "metadata": {},
   "source": [
    "# Project 4 -- Dwijen Chawra"
   ]
  },
  {
   "cell_type": "markdown",
   "id": "6180e742-8e39-4698-98ff-5b00c8cf8ea0",
   "metadata": {},
   "source": [
    "## Question 1"
   ]
  },
  {
   "cell_type": "code",
   "execution_count": 1,
   "id": "a82671be",
   "metadata": {},
   "outputs": [],
   "source": [
    "import time\n",
    "import uuid\n",
    "from selenium import webdriver\n",
    "from selenium.webdriver.firefox.options import Options\n",
    "from selenium.webdriver.common.desired_capabilities import DesiredCapabilities\n",
    "from selenium.webdriver.common.keys import Keys\n",
    "from selenium.common.exceptions import StaleElementReferenceException\n",
    "\n",
    "firefox_options = Options()\n",
    "firefox_options.add_argument(\"--window-size=810,1080\")\n",
    "# Headless mode means no GUI\n",
    "firefox_options.add_argument(\"--headless\")\n",
    "firefox_options.add_argument(\"--disable-extensions\")\n",
    "firefox_options.add_argument(\"--no-sandbox\")\n",
    "firefox_options.add_argument(\"--disable-dev-shm-usage\")\n",
    "firefox_options.set_preference(\"general.useragent.override\", \"Mozilla/5.0 (Windows NT 10.0; Win64; x64) AppleWebKit/537.36 (KHTML, like Gecko) Chrome/109.0.0.0 Safari/537.36\")\n",
    "\n",
    "driver = webdriver.Firefox(options=firefox_options)\n",
    "driver.quit()\n"
   ]
  },
  {
   "cell_type": "code",
   "execution_count": 2,
   "id": "093a3ece",
   "metadata": {},
   "outputs": [
    {
     "name": "stdout",
     "output_type": "stream",
     "text": [
      "https://www.zillow.com/homes/for_sale/32607_rb/\n",
      "9\n",
      "9\n",
      "11\n",
      "13\n",
      "15\n",
      "18\n",
      "20\n",
      "22\n",
      "24\n",
      "26\n",
      "28\n",
      "30\n",
      "32\n",
      "34\n",
      "36\n",
      "38\n",
      "40\n",
      "40\n",
      "https://www.zillow.com/captchaPerimeterX/?url=%2fhomes%2ffor_sale%2f32607_rb%2f2_p&uuid=cdb9d2ba-a55f-11ed-8d49-4b5341706257&vid=\n",
      "0\n",
      "0\n"
     ]
    },
    {
     "ename": "IndexError",
     "evalue": "list index out of range",
     "output_type": "error",
     "traceback": [
      "\u001b[0;31m---------------------------------------------------------------------------\u001b[0m",
      "\u001b[0;31mIndexError\u001b[0m                                Traceback (most recent call last)",
      "\u001b[1;32m/home/x-dchawra/tdm202/project3/dwijen-chawra-proj3.ipynb Cell 4\u001b[0m in \u001b[0;36m<cell line: 46>\u001b[0;34m()\u001b[0m\n\u001b[1;32m     <a href='vscode-notebook-cell://ssh-remote%2Ba241/home/x-dchawra/tdm202/project3/dwijen-chawra-proj3.ipynb#W3sdnNjb2RlLXJlbW90ZQ%3D%3D?line=44'>45</a>\u001b[0m zpids \u001b[39m=\u001b[39m []\n\u001b[1;32m     <a href='vscode-notebook-cell://ssh-remote%2Ba241/home/x-dchawra/tdm202/project3/dwijen-chawra-proj3.ipynb#W3sdnNjb2RlLXJlbW90ZQ%3D%3D?line=45'>46</a>\u001b[0m \u001b[39mfor\u001b[39;00m i \u001b[39min\u001b[39;00m \u001b[39mrange\u001b[39m(\u001b[39m2\u001b[39m):\n\u001b[0;32m---> <a href='vscode-notebook-cell://ssh-remote%2Ba241/home/x-dchawra/tdm202/project3/dwijen-chawra-proj3.ipynb#W3sdnNjb2RlLXJlbW90ZQ%3D%3D?line=46'>47</a>\u001b[0m     zpids\u001b[39m.\u001b[39mextend(get_zpid(\u001b[39m\"\u001b[39;49m\u001b[39m32607\u001b[39;49m\u001b[39m\"\u001b[39;49m, i \u001b[39m+\u001b[39;49m \u001b[39m1\u001b[39;49m))\n\u001b[1;32m     <a href='vscode-notebook-cell://ssh-remote%2Ba241/home/x-dchawra/tdm202/project3/dwijen-chawra-proj3.ipynb#W3sdnNjb2RlLXJlbW90ZQ%3D%3D?line=48'>49</a>\u001b[0m zpids\n",
      "\u001b[1;32m/home/x-dchawra/tdm202/project3/dwijen-chawra-proj3.ipynb Cell 4\u001b[0m in \u001b[0;36mget_zpid\u001b[0;34m(search_term, page)\u001b[0m\n\u001b[1;32m     <a href='vscode-notebook-cell://ssh-remote%2Ba241/home/x-dchawra/tdm202/project3/dwijen-chawra-proj3.ipynb#W3sdnNjb2RlLXJlbW90ZQ%3D%3D?line=35'>36</a>\u001b[0m \u001b[39m# time.sleep(5)\u001b[39;00m\n\u001b[1;32m     <a href='vscode-notebook-cell://ssh-remote%2Ba241/home/x-dchawra/tdm202/project3/dwijen-chawra-proj3.ipynb#W3sdnNjb2RlLXJlbW90ZQ%3D%3D?line=36'>37</a>\u001b[0m \u001b[39mprint\u001b[39m(driver\u001b[39m.\u001b[39mcurrent_url)\n\u001b[0;32m---> <a href='vscode-notebook-cell://ssh-remote%2Ba241/home/x-dchawra/tdm202/project3/dwijen-chawra-proj3.ipynb#W3sdnNjb2RlLXJlbW90ZQ%3D%3D?line=37'>38</a>\u001b[0m allcards \u001b[39m=\u001b[39m _load_all_cards(driver)\n\u001b[1;32m     <a href='vscode-notebook-cell://ssh-remote%2Ba241/home/x-dchawra/tdm202/project3/dwijen-chawra-proj3.ipynb#W3sdnNjb2RlLXJlbW90ZQ%3D%3D?line=38'>39</a>\u001b[0m driver\u001b[39m.\u001b[39mquit()\n\u001b[1;32m     <a href='vscode-notebook-cell://ssh-remote%2Ba241/home/x-dchawra/tdm202/project3/dwijen-chawra-proj3.ipynb#W3sdnNjb2RlLXJlbW90ZQ%3D%3D?line=40'>41</a>\u001b[0m \u001b[39mprint\u001b[39m(\u001b[39mlen\u001b[39m(allcards))\n",
      "\u001b[1;32m/home/x-dchawra/tdm202/project3/dwijen-chawra-proj3.ipynb Cell 4\u001b[0m in \u001b[0;36mget_zpid.<locals>._load_all_cards\u001b[0;34m(driver)\u001b[0m\n\u001b[1;32m      <a href='vscode-notebook-cell://ssh-remote%2Ba241/home/x-dchawra/tdm202/project3/dwijen-chawra-proj3.ipynb#W3sdnNjb2RlLXJlbW90ZQ%3D%3D?line=6'>7</a>\u001b[0m num_cards \u001b[39m=\u001b[39m \u001b[39mlen\u001b[39m(cards)\n\u001b[1;32m      <a href='vscode-notebook-cell://ssh-remote%2Ba241/home/x-dchawra/tdm202/project3/dwijen-chawra-proj3.ipynb#W3sdnNjb2RlLXJlbW90ZQ%3D%3D?line=7'>8</a>\u001b[0m \u001b[39mprint\u001b[39m(num_cards)\n\u001b[0;32m----> <a href='vscode-notebook-cell://ssh-remote%2Ba241/home/x-dchawra/tdm202/project3/dwijen-chawra-proj3.ipynb#W3sdnNjb2RlLXJlbW90ZQ%3D%3D?line=8'>9</a>\u001b[0m driver\u001b[39m.\u001b[39mexecute_script(\u001b[39m'\u001b[39m\u001b[39marguments[0].scrollIntoView();\u001b[39m\u001b[39m'\u001b[39m, cards[num_cards\u001b[39m-\u001b[39;49m\u001b[39m1\u001b[39;49m])\n\u001b[1;32m     <a href='vscode-notebook-cell://ssh-remote%2Ba241/home/x-dchawra/tdm202/project3/dwijen-chawra-proj3.ipynb#W3sdnNjb2RlLXJlbW90ZQ%3D%3D?line=9'>10</a>\u001b[0m time\u001b[39m.\u001b[39msleep(\u001b[39m1\u001b[39m)\n\u001b[1;32m     <a href='vscode-notebook-cell://ssh-remote%2Ba241/home/x-dchawra/tdm202/project3/dwijen-chawra-proj3.ipynb#W3sdnNjb2RlLXJlbW90ZQ%3D%3D?line=10'>11</a>\u001b[0m cards \u001b[39m=\u001b[39m driver\u001b[39m.\u001b[39mfind_elements(\u001b[39m\"\u001b[39m\u001b[39mxpath\u001b[39m\u001b[39m\"\u001b[39m, \u001b[39m\"\u001b[39m\u001b[39m//article[starts-with(@id, \u001b[39m\u001b[39m'\u001b[39m\u001b[39mzpid\u001b[39m\u001b[39m'\u001b[39m\u001b[39m)]\u001b[39m\u001b[39m\"\u001b[39m)\n",
      "\u001b[0;31mIndexError\u001b[0m: list index out of range"
     ]
    }
   ],
   "source": [
    "def get_zpid(search_term: str, page: int = 1):\n",
    "    def _load_all_cards(driver):\n",
    "        cards = driver.find_elements(\"xpath\", \"//article[starts-with(@id, 'zpid')]\")\n",
    "        print(len(cards))\n",
    "        while True:\n",
    "            try:\n",
    "                num_cards = len(cards)\n",
    "                print(num_cards)\n",
    "                driver.execute_script('arguments[0].scrollIntoView();', cards[num_cards-1])\n",
    "                time.sleep(1)\n",
    "                cards = driver.find_elements(\"xpath\", \"//article[starts-with(@id, 'zpid')]\")\n",
    "                if num_cards == len(cards):\n",
    "                    break\n",
    "                num_cards = len(cards)\n",
    "            except StaleElementReferenceException:\n",
    "                # every once in a while we will get a StaleElementReferenceException\n",
    "                # because we are trying to access or scroll to an element that has changed.\n",
    "                # this probably means we can skip it because the data has already loaded.\n",
    "                continue\n",
    "\n",
    "        return cards\n",
    "\n",
    "    driver = webdriver.Firefox(options=firefox_options)\n",
    "\n",
    "    # if page == 1:\n",
    "    #     driver.get(\"https://www.zillow.com/gainesville-fl-32607/luxury-homes/\")\n",
    "    # else:\n",
    "    #     driver.get(f\"https://www.zillow.com/gainesville-fl-32607/luxury-homes/{page}_p\")\n",
    "\n",
    "    if page == 1:\n",
    "        driver.get(\"https://www.zillow.com/homes/for_sale/32607_rb/\")\n",
    "    else:\n",
    "        driver.get(f\"https://www.zillow.com/homes/for_sale/32607_rb/{page}_p\")\n",
    "\n",
    "\n",
    "    # time.sleep(5)\n",
    "    print(driver.current_url)\n",
    "    allcards = _load_all_cards(driver)\n",
    "    driver.quit()\n",
    "\n",
    "    print(len(allcards))\n",
    "\n",
    "    return allcards\n",
    "\n",
    "zpids = []\n",
    "for i in range(2):\n",
    "    zpids.extend(get_zpid(\"32607\", i + 1))\n",
    "\n",
    "zpids"
   ]
  },
  {
   "cell_type": "code",
   "execution_count": 11,
   "id": "4dd5c806",
   "metadata": {},
   "outputs": [],
   "source": [
    "driver.quit()"
   ]
  },
  {
   "cell_type": "markdown",
   "id": "b456e57c-4a12-464b-999a-ef2df5af80c1",
   "metadata": {},
   "source": [
    "Markdown notes and sentences and analysis written here."
   ]
  },
  {
   "cell_type": "markdown",
   "id": "fc601975-35ed-4680-a4e1-0273ee3cc047",
   "metadata": {},
   "source": [
    "## Question 2"
   ]
  },
  {
   "cell_type": "markdown",
   "id": "14dc22d4-ddc3-41cc-a91a-cb0025bc0c80",
   "metadata": {},
   "source": [
    "Markdown notes and sentences and analysis written here."
   ]
  },
  {
   "cell_type": "markdown",
   "id": "8e586edd-ff26-4ce2-8f6b-2424b26f2929",
   "metadata": {},
   "source": [
    "## Question 3"
   ]
  },
  {
   "cell_type": "markdown",
   "id": "47c6229f-35f7-400c-8366-c442baa5cf47",
   "metadata": {},
   "source": [
    "Markdown notes and sentences and analysis written here."
   ]
  },
  {
   "cell_type": "markdown",
   "id": "da22f29c-d245-4d2b-9fc1-ca14cb6087d9",
   "metadata": {},
   "source": [
    "## Question 4"
   ]
  },
  {
   "cell_type": "markdown",
   "id": "0d552245-b4d6-474a-9cc9-fa7b8e674d55",
   "metadata": {},
   "source": [
    "Markdown notes and sentences and analysis written here."
   ]
  },
  {
   "cell_type": "markdown",
   "id": "88c9cdac-3e92-498f-83fa-e089bfc44ac8",
   "metadata": {},
   "source": [
    "## Question 5"
   ]
  },
  {
   "cell_type": "markdown",
   "id": "9fbf00fb-2418-460f-ae94-2a32b0c28952",
   "metadata": {},
   "source": [
    "Markdown notes and sentences and analysis written here."
   ]
  },
  {
   "cell_type": "markdown",
   "id": "f76442d6-d02e-4f26-b9d6-c3183e1d6929",
   "metadata": {},
   "source": [
    "## Pledge\n",
    "\n",
    "By submitting this work I hereby pledge that this is my own, personal work. I've acknowledged in the designated place at the top of this file all sources that I used to complete said work, including but not limited to: online resources, books, and electronic communications. I've noted all collaboration with fellow students and/or TA's. I did not copy or plagiarize another's work.\n",
    "\n",
    "> As a Boilermaker pursuing academic excellence, I pledge to be honest and true in all that I do. Accountable together – We are Purdue."
   ]
  }
 ],
 "metadata": {
  "kernelspec": {
   "display_name": "f2022-s2023",
   "language": "python",
   "name": "f2022-s2023"
  },
  "language_info": {
   "codemirror_mode": {
    "name": "ipython",
    "version": 3
   },
   "file_extension": ".py",
   "mimetype": "text/x-python",
   "name": "python",
   "nbconvert_exporter": "python",
   "pygments_lexer": "ipython3",
   "version": "3.10.7"
  },
  "vscode": {
   "interpreter": {
    "hash": "916dbcbb3f70747c44a77c7bcd40155683ae19c65e1c03b4aa3499c5328201f1"
   }
  }
 },
 "nbformat": 4,
 "nbformat_minor": 5
}
