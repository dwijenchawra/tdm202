{
 "cells": [
  {
   "attachments": {},
   "cell_type": "markdown",
   "id": "be02a957-7133-4d02-818e-fedeb3cecb05",
   "metadata": {},
   "source": [
    "# Project 12 -- Dwijen Chawra"
   ]
  },
  {
   "cell_type": "markdown",
   "id": "6180e742-8e39-4698-98ff-5b00c8cf8ea0",
   "metadata": {},
   "source": [
    "## Question 1"
   ]
  },
  {
   "cell_type": "code",
   "execution_count": 40,
   "id": "9dba487c",
   "metadata": {
    "vscode": {
     "languageId": "r"
    }
   },
   "outputs": [
    {
     "name": "stderr",
     "output_type": "stream",
     "text": [
      "\u001b[1m\u001b[22mNew names:\n",
      "\u001b[36m•\u001b[39m `` -> `...1`\n",
      "\u001b[1mRows: \u001b[22m\u001b[34m1296353\u001b[39m \u001b[1mColumns: \u001b[22m\u001b[34m19\u001b[39m\n",
      "\u001b[36m──\u001b[39m \u001b[1mColumn specification\u001b[22m \u001b[36m────────────────────────────────────────────────────────\u001b[39m\n",
      "\u001b[1mDelimiter:\u001b[22m \",\"\n",
      "\u001b[31mchr\u001b[39m (17): date_received, product, sub_product, issue, sub_issue, consumer_co...\n",
      "\u001b[32mdbl\u001b[39m  (2): ...1, complaint_id\n",
      "\n",
      "\u001b[36mℹ\u001b[39m Use `spec()` to retrieve the full column specification for this data.\n",
      "\u001b[36mℹ\u001b[39m Specify the column types or set `show_col_types = FALSE` to quiet this message.\n"
     ]
    }
   ],
   "source": [
    "library(tidyverse)\n",
    "dat <- read_csv(\"/anvil/projects/tdm/data/consumer_complaints/processed.csv\")"
   ]
  },
  {
   "cell_type": "code",
   "execution_count": 41,
   "id": "10110c91",
   "metadata": {
    "vscode": {
     "languageId": "r"
    }
   },
   "outputs": [
    {
     "name": "stdout",
     "output_type": "stream",
     "text": [
      "Rows: 1,296,353\n",
      "Columns: 19\n",
      "$ ...1                         \u001b[3m\u001b[90m<dbl>\u001b[39m\u001b[23m 0, 1, 2, 3, 4, 5, 6, 7, 8, 9, 10, 11, 12,…\n",
      "$ date_received                \u001b[3m\u001b[90m<chr>\u001b[39m\u001b[23m \"05/30/2019\", \"05/30/2019\", \"05/30/2019\",…\n",
      "$ product                      \u001b[3m\u001b[90m<chr>\u001b[39m\u001b[23m \"Credit reporting; credit repair services…\n",
      "$ sub_product                  \u001b[3m\u001b[90m<chr>\u001b[39m\u001b[23m \"Credit reporting\", \"Checking account\", \"…\n",
      "$ issue                        \u001b[3m\u001b[90m<chr>\u001b[39m\u001b[23m \"Incorrect information on your report\", \"…\n",
      "$ sub_issue                    \u001b[3m\u001b[90m<chr>\u001b[39m\u001b[23m \"Old information reappears or never goes …\n",
      "$ consumer_complaint_narrative \u001b[3m\u001b[90m<chr>\u001b[39m\u001b[23m NA, NA, NA, NA, NA, NA, NA, NA, NA, NA, N…\n",
      "$ company_public_response      \u001b[3m\u001b[90m<chr>\u001b[39m\u001b[23m NA, NA, NA, NA, NA, NA, NA, NA, NA, NA, N…\n",
      "$ company                      \u001b[3m\u001b[90m<chr>\u001b[39m\u001b[23m \"Statewide Credit Services Corp.\", \"NAVY …\n",
      "$ state                        \u001b[3m\u001b[90m<chr>\u001b[39m\u001b[23m \"PA\", \"MD\", \"OR\", \"AL\", \"IL\", \"OH\", \"NC\",…\n",
      "$ zip                          \u001b[3m\u001b[90m<chr>\u001b[39m\u001b[23m \"170XX\", \"20746\", \"973XX\", NA, \"606XX\", \"…\n",
      "$ tags                         \u001b[3m\u001b[90m<chr>\u001b[39m\u001b[23m \"Older American\", NA, NA, NA, \"Older Amer…\n",
      "$ consumer_consent_provided    \u001b[3m\u001b[90m<chr>\u001b[39m\u001b[23m NA, NA, NA, NA, NA, NA, NA, NA, NA, NA, N…\n",
      "$ submitted_via                \u001b[3m\u001b[90m<chr>\u001b[39m\u001b[23m \"Web\", \"Web\", \"Web\", \"Web\", \"Web\", \"Web\",…\n",
      "$ date_sent_to_company         \u001b[3m\u001b[90m<chr>\u001b[39m\u001b[23m \"05/30/2019\", \"05/30/2019\", \"05/30/2019\",…\n",
      "$ company_response_to_consumer \u001b[3m\u001b[90m<chr>\u001b[39m\u001b[23m \"Closed with explanation\", \"In progress\",…\n",
      "$ timely_response              \u001b[3m\u001b[90m<chr>\u001b[39m\u001b[23m \"Yes\", \"Yes\", \"Yes\", \"Yes\", \"Yes\", \"Yes\",…\n",
      "$ consumer_disputed            \u001b[3m\u001b[90m<chr>\u001b[39m\u001b[23m NA, NA, NA, NA, NA, NA, NA, NA, NA, NA, N…\n",
      "$ complaint_id                 \u001b[3m\u001b[90m<dbl>\u001b[39m\u001b[23m 3256553, 3258621, 3257989, 3257708, 32576…\n"
     ]
    }
   ],
   "source": [
    "glimpse(dat)"
   ]
  },
  {
   "attachments": {},
   "cell_type": "markdown",
   "id": "815ca5bb",
   "metadata": {},
   "source": [
    "The data in the \"date sent to company\" columns and the \"date received\" columns is all characters right now, but they are both formatted as dates. I do not think it is in the right format right now, but we can convert them to proper dates and drop the unclean dates."
   ]
  },
  {
   "attachments": {},
   "cell_type": "markdown",
   "id": "4d2ea942",
   "metadata": {},
   "source": [
    "## Question 2"
   ]
  },
  {
   "cell_type": "code",
   "execution_count": 42,
   "id": "796c6888",
   "metadata": {
    "vscode": {
     "languageId": "r"
    }
   },
   "outputs": [
    {
     "name": "stdout",
     "output_type": "stream",
     "text": [
      "Rows: 1,296,353\n",
      "Columns: 19\n",
      "$ ...1                         \u001b[3m\u001b[90m<dbl>\u001b[39m\u001b[23m 0, 1, 2, 3, 4, 5, 6, 7, 8, 9, 10, 11, 12,…\n",
      "$ date_received                \u001b[3m\u001b[90m<date>\u001b[39m\u001b[23m 2019-05-30, 2019-05-30, 2019-05-30, 2019…\n",
      "$ product                      \u001b[3m\u001b[90m<chr>\u001b[39m\u001b[23m \"Credit reporting; credit repair services…\n",
      "$ sub_product                  \u001b[3m\u001b[90m<chr>\u001b[39m\u001b[23m \"Credit reporting\", \"Checking account\", \"…\n",
      "$ issue                        \u001b[3m\u001b[90m<chr>\u001b[39m\u001b[23m \"Incorrect information on your report\", \"…\n",
      "$ sub_issue                    \u001b[3m\u001b[90m<chr>\u001b[39m\u001b[23m \"Old information reappears or never goes …\n",
      "$ consumer_complaint_narrative \u001b[3m\u001b[90m<chr>\u001b[39m\u001b[23m NA, NA, NA, NA, NA, NA, NA, NA, NA, NA, N…\n",
      "$ company_public_response      \u001b[3m\u001b[90m<chr>\u001b[39m\u001b[23m NA, NA, NA, NA, NA, NA, NA, NA, NA, NA, N…\n",
      "$ company                      \u001b[3m\u001b[90m<chr>\u001b[39m\u001b[23m \"Statewide Credit Services Corp.\", \"NAVY …\n",
      "$ state                        \u001b[3m\u001b[90m<chr>\u001b[39m\u001b[23m \"PA\", \"MD\", \"OR\", \"AL\", \"IL\", \"OH\", \"NC\",…\n",
      "$ zip                          \u001b[3m\u001b[90m<chr>\u001b[39m\u001b[23m \"170XX\", \"20746\", \"973XX\", NA, \"606XX\", \"…\n",
      "$ tags                         \u001b[3m\u001b[90m<chr>\u001b[39m\u001b[23m \"Older American\", NA, NA, NA, \"Older Amer…\n",
      "$ consumer_consent_provided    \u001b[3m\u001b[90m<chr>\u001b[39m\u001b[23m NA, NA, NA, NA, NA, NA, NA, NA, NA, NA, N…\n",
      "$ submitted_via                \u001b[3m\u001b[90m<chr>\u001b[39m\u001b[23m \"Web\", \"Web\", \"Web\", \"Web\", \"Web\", \"Web\",…\n",
      "$ date_sent_to_company         \u001b[3m\u001b[90m<date>\u001b[39m\u001b[23m 2019-05-30, 2019-05-30, 2019-05-30, 2019…\n",
      "$ company_response_to_consumer \u001b[3m\u001b[90m<chr>\u001b[39m\u001b[23m \"Closed with explanation\", \"In progress\",…\n",
      "$ timely_response              \u001b[3m\u001b[90m<chr>\u001b[39m\u001b[23m \"Yes\", \"Yes\", \"Yes\", \"Yes\", \"Yes\", \"Yes\",…\n",
      "$ consumer_disputed            \u001b[3m\u001b[90m<chr>\u001b[39m\u001b[23m NA, NA, NA, NA, NA, NA, NA, NA, NA, NA, N…\n",
      "$ complaint_id                 \u001b[3m\u001b[90m<dbl>\u001b[39m\u001b[23m 3256553, 3258621, 3257989, 3257708, 32576…\n"
     ]
    }
   ],
   "source": [
    "library(lubridate)\n",
    "\n",
    "# convert date_received and date_sent_to_company to date format.\n",
    "# they are in the format mm/dd/yyyy\n",
    "dat$date_received <- mdy(dat$date_received)\n",
    "dat$date_sent_to_company <- mdy(dat$date_sent_to_company)\n",
    "\n",
    "glimpse(dat)"
   ]
  },
  {
   "attachments": {},
   "cell_type": "markdown",
   "id": "1c1ad48e",
   "metadata": {},
   "source": [
    "## Question 3"
   ]
  },
  {
   "cell_type": "code",
   "execution_count": 43,
   "id": "02b3835d",
   "metadata": {
    "vscode": {
     "languageId": "r"
    }
   },
   "outputs": [
    {
     "name": "stdout",
     "output_type": "stream",
     "text": [
      "Rows: 1,296,353\n",
      "Columns: 20\n",
      "$ ...1                         \u001b[3m\u001b[90m<dbl>\u001b[39m\u001b[23m 0, 1, 2, 3, 4, 5, 6, 7, 8, 9, 10, 11, 12,…\n",
      "$ date_received                \u001b[3m\u001b[90m<date>\u001b[39m\u001b[23m 2019-05-30, 2019-05-30, 2019-05-30, 2019…\n",
      "$ product                      \u001b[3m\u001b[90m<chr>\u001b[39m\u001b[23m \"Credit reporting; credit repair services…\n",
      "$ sub_product                  \u001b[3m\u001b[90m<chr>\u001b[39m\u001b[23m \"Credit reporting\", \"Checking account\", \"…\n",
      "$ issue                        \u001b[3m\u001b[90m<chr>\u001b[39m\u001b[23m \"Incorrect information on your report\", \"…\n",
      "$ sub_issue                    \u001b[3m\u001b[90m<chr>\u001b[39m\u001b[23m \"Old information reappears or never goes …\n",
      "$ consumer_complaint_narrative \u001b[3m\u001b[90m<chr>\u001b[39m\u001b[23m NA, NA, NA, NA, NA, NA, NA, NA, NA, NA, N…\n",
      "$ company_public_response      \u001b[3m\u001b[90m<chr>\u001b[39m\u001b[23m NA, NA, NA, NA, NA, NA, NA, NA, NA, NA, N…\n",
      "$ company                      \u001b[3m\u001b[90m<chr>\u001b[39m\u001b[23m \"Statewide Credit Services Corp.\", \"NAVY …\n",
      "$ state                        \u001b[3m\u001b[90m<chr>\u001b[39m\u001b[23m \"PA\", \"MD\", \"OR\", \"AL\", \"IL\", \"OH\", \"NC\",…\n",
      "$ zip                          \u001b[3m\u001b[90m<chr>\u001b[39m\u001b[23m \"170XX\", \"20746\", \"973XX\", NA, \"606XX\", \"…\n",
      "$ tags                         \u001b[3m\u001b[90m<chr>\u001b[39m\u001b[23m \"Older American\", NA, NA, NA, \"Older Amer…\n",
      "$ consumer_consent_provided    \u001b[3m\u001b[90m<chr>\u001b[39m\u001b[23m NA, NA, NA, NA, NA, NA, NA, NA, NA, NA, N…\n",
      "$ submitted_via                \u001b[3m\u001b[90m<chr>\u001b[39m\u001b[23m \"Web\", \"Web\", \"Web\", \"Web\", \"Web\", \"Web\",…\n",
      "$ date_sent_to_company         \u001b[3m\u001b[90m<date>\u001b[39m\u001b[23m 2019-05-30, 2019-05-30, 2019-05-30, 2019…\n",
      "$ company_response_to_consumer \u001b[3m\u001b[90m<chr>\u001b[39m\u001b[23m \"Closed with explanation\", \"In progress\",…\n",
      "$ timely_response              \u001b[3m\u001b[90m<chr>\u001b[39m\u001b[23m \"Yes\", \"Yes\", \"Yes\", \"Yes\", \"Yes\", \"Yes\",…\n",
      "$ consumer_disputed            \u001b[3m\u001b[90m<chr>\u001b[39m\u001b[23m NA, NA, NA, NA, NA, NA, NA, NA, NA, NA, N…\n",
      "$ complaint_id                 \u001b[3m\u001b[90m<dbl>\u001b[39m\u001b[23m 3256553, 3258621, 3257989, 3257708, 32576…\n",
      "$ wait_time                    \u001b[3m\u001b[90m<drtn>\u001b[39m\u001b[23m 0 days, 0 days, 0 days, 0 days, 0 days, …\n"
     ]
    }
   ],
   "source": [
    "dat <- dat %>% \n",
    "  mutate(wait_time = difftime(dat$date_sent_to_company, dat$date_received, units = \"days\"))\n",
    "\n",
    "glimpse(dat)"
   ]
  },
  {
   "attachments": {},
   "cell_type": "markdown",
   "id": "84533591",
   "metadata": {},
   "source": [
    "## Question 4"
   ]
  },
  {
   "cell_type": "code",
   "execution_count": 44,
   "id": "8b33219c",
   "metadata": {
    "vscode": {
     "languageId": "r"
    }
   },
   "outputs": [
    {
     "data": {
      "text/plain": [
       "  Length    Class     Mode \n",
       " 1296353 difftime  numeric "
      ]
     },
     "metadata": {},
     "output_type": "display_data"
    },
    {
     "data": {
      "text/plain": [
       "Time difference of 3.162897 days"
      ]
     },
     "metadata": {},
     "output_type": "display_data"
    },
    {
     "data": {
      "text/plain": [
       "Time difference of 0 days"
      ]
     },
     "metadata": {},
     "output_type": "display_data"
    },
    {
     "data": {
      "text/plain": [
       "Time difference of 1962 days"
      ]
     },
     "metadata": {},
     "output_type": "display_data"
    },
    {
     "name": "stdout",
     "output_type": "stream",
     "text": [
      "[1] \"Broken down by submitted_via\"\n",
      "[1] \"Web\"\n",
      "Time difference of 2.294994 days\n",
      "Time difference of 0 days\n",
      "Time difference of 1962 days\n",
      "[1] 956918\n",
      "[1] \"Phone\"\n",
      "Time difference of 4.176102 days\n",
      "Time difference of 1 days\n",
      "Time difference of 1019 days\n",
      "[1] 77245\n",
      "[1] \"Referral\"\n",
      "Time difference of 5.808233 days\n",
      "Time difference of 3 days\n",
      "Time difference of 1601 days\n",
      "[1] 174785\n",
      "[1] \"Postal mail\"\n",
      "Time difference of 7.005225 days\n",
      "Time difference of 2 days\n",
      "Time difference of 1188 days\n",
      "[1] 67949\n",
      "[1] \"Fax\"\n",
      "Time difference of 4.584544 days\n",
      "Time difference of 1 days\n",
      "Time difference of 1754 days\n",
      "[1] 19073\n",
      "[1] \"Email\"\n",
      "Time difference of 7.561358 days\n",
      "Time difference of 2 days\n",
      "Time difference of 189 days\n",
      "[1] 383\n"
     ]
    },
    {
     "data": {
      "text/html": [
       "<table class=\"dataframe\">\n",
       "<caption>A data.frame: 6 × 5</caption>\n",
       "<thead>\n",
       "\t<tr><th scope=col>submitted_via</th><th scope=col>mean_wait_time</th><th scope=col>median_wait_time</th><th scope=col>max_wait_time</th><th scope=col>n</th></tr>\n",
       "\t<tr><th scope=col>&lt;chr&gt;</th><th scope=col>&lt;drtn&gt;</th><th scope=col>&lt;drtn&gt;</th><th scope=col>&lt;drtn&gt;</th><th scope=col>&lt;int&gt;</th></tr>\n",
       "</thead>\n",
       "<tbody>\n",
       "\t<tr><td>Web        </td><td>2.294994 days</td><td>0 days</td><td>1962 days</td><td>956918</td></tr>\n",
       "\t<tr><td>Phone      </td><td>4.176102 days</td><td>1 days</td><td>1019 days</td><td> 77245</td></tr>\n",
       "\t<tr><td>Referral   </td><td>5.808233 days</td><td>3 days</td><td>1601 days</td><td>174785</td></tr>\n",
       "\t<tr><td>Postal mail</td><td>7.005225 days</td><td>2 days</td><td>1188 days</td><td> 67949</td></tr>\n",
       "\t<tr><td>Fax        </td><td>4.584544 days</td><td>1 days</td><td>1754 days</td><td> 19073</td></tr>\n",
       "\t<tr><td>Email      </td><td>7.561358 days</td><td>2 days</td><td> 189 days</td><td>   383</td></tr>\n",
       "</tbody>\n",
       "</table>\n"
      ],
      "text/latex": [
       "A data.frame: 6 × 5\n",
       "\\begin{tabular}{lllll}\n",
       " submitted\\_via & mean\\_wait\\_time & median\\_wait\\_time & max\\_wait\\_time & n\\\\\n",
       " <chr> & <drtn> & <drtn> & <drtn> & <int>\\\\\n",
       "\\hline\n",
       "\t Web         & 2.294994 days & 0 days & 1962 days & 956918\\\\\n",
       "\t Phone       & 4.176102 days & 1 days & 1019 days &  77245\\\\\n",
       "\t Referral    & 5.808233 days & 3 days & 1601 days & 174785\\\\\n",
       "\t Postal mail & 7.005225 days & 2 days & 1188 days &  67949\\\\\n",
       "\t Fax         & 4.584544 days & 1 days & 1754 days &  19073\\\\\n",
       "\t Email       & 7.561358 days & 2 days &  189 days &    383\\\\\n",
       "\\end{tabular}\n"
      ],
      "text/markdown": [
       "\n",
       "A data.frame: 6 × 5\n",
       "\n",
       "| submitted_via &lt;chr&gt; | mean_wait_time &lt;drtn&gt; | median_wait_time &lt;drtn&gt; | max_wait_time &lt;drtn&gt; | n &lt;int&gt; |\n",
       "|---|---|---|---|---|\n",
       "| Web         | 2.294994 days | 0 days | 1962 days | 956918 |\n",
       "| Phone       | 4.176102 days | 1 days | 1019 days |  77245 |\n",
       "| Referral    | 5.808233 days | 3 days | 1601 days | 174785 |\n",
       "| Postal mail | 7.005225 days | 2 days | 1188 days |  67949 |\n",
       "| Fax         | 4.584544 days | 1 days | 1754 days |  19073 |\n",
       "| Email       | 7.561358 days | 2 days |  189 days |    383 |\n",
       "\n"
      ],
      "text/plain": [
       "  submitted_via mean_wait_time median_wait_time max_wait_time n     \n",
       "1 Web           2.294994 days  0 days           1962 days     956918\n",
       "2 Phone         4.176102 days  1 days           1019 days      77245\n",
       "3 Referral      5.808233 days  3 days           1601 days     174785\n",
       "4 Postal mail   7.005225 days  2 days           1188 days      67949\n",
       "5 Fax           4.584544 days  1 days           1754 days      19073\n",
       "6 Email         7.561358 days  2 days            189 days        383"
      ]
     },
     "metadata": {},
     "output_type": "display_data"
    }
   ],
   "source": [
    "# display stats for wait_time\n",
    "summary(dat$wait_time)\n",
    "mean(dat$wait_time)\n",
    "median(dat$wait_time)\n",
    "max(dat$wait_time)\n",
    "\n",
    "print(\"Broken down by submitted_via\")\n",
    "wait_time_stats <- data.frame()\n",
    "\n",
    "for (cat in unique(dat$submitted_via)) {\n",
    "    print(cat)\n",
    "    print(mean(dat[dat$submitted_via == cat,]$wait_time))\n",
    "    print(median(dat[dat$submitted_via == cat,]$wait_time))\n",
    "    print(max(dat[dat$submitted_via == cat,]$wait_time))\n",
    "    print(nrow(dat[dat$submitted_via == cat,]))\n",
    "    \n",
    "    temp <- data.frame(submitted_via = cat,\n",
    "                       mean_wait_time = mean(dat[dat$submitted_via == cat,]$wait_time),\n",
    "                       median_wait_time = median(dat[dat$submitted_via == cat,]$wait_time),\n",
    "                       max_wait_time = max(dat[dat$submitted_via == cat,]$wait_time),\n",
    "                       n = nrow(dat[dat$submitted_via == cat,]))\n",
    "    wait_time_stats <- rbind(wait_time_stats, temp)\n",
    "}\n",
    "\n",
    "\n",
    "wait_time_stats"
   ]
  },
  {
   "cell_type": "code",
   "execution_count": 45,
   "id": "a9b036b5",
   "metadata": {
    "vscode": {
     "languageId": "r"
    }
   },
   "outputs": [
    {
     "name": "stderr",
     "output_type": "stream",
     "text": [
      "\u001b[1m\u001b[22mDon't know how to automatically pick scale for object of type \u001b[34m<difftime>\u001b[39m.\n",
      "Defaulting to continuous.\n"
     ]
    },
    {
     "data": {
      "image/png": "[encoded data removed]",
      "text/plain": [
       "plot without title"
      ]
     },
     "metadata": {
      "image/png": {
       "height": 420,
       "width": 420
      }
     },
     "output_type": "display_data"
    }
   ],
   "source": [
    "wait_time_bar <- ggplot(wait_time_stats, aes(x = reorder(submitted_via, mean_wait_time, ), y = mean_wait_time)) +\n",
    "  geom_bar(stat = \"identity\") +\n",
    "  labs(title = \"Mean wait time by submitted_via\",\n",
    "       x = \"submitted_via\",\n",
    "       y = \"mean wait time (days)\")\n",
    "\n",
    "wait_time_bar"
   ]
  },
  {
   "attachments": {},
   "cell_type": "markdown",
   "id": "781f7093",
   "metadata": {},
   "source": [
    "I picked this analysis, using the mean of the data because I knew that the median would be heavily affected by the sheer quantity of complaints with a 0 day wait time. By using the mean, we are able to see the full range of the numbers and where the skew lies, in one number.\n",
    "\n",
    "## Based on the average wait time in the bar chart, using the Web submission interface would be the fastest way to get a response from the company."
   ]
  },
  {
   "attachments": {},
   "cell_type": "markdown",
   "id": "4ed6de14",
   "metadata": {},
   "source": [
    "## Question 5"
   ]
  },
  {
   "cell_type": "code",
   "execution_count": 59,
   "id": "ad03f0f3",
   "metadata": {
    "vscode": {
     "languageId": "r"
    }
   },
   "outputs": [
    {
     "name": "stdout",
     "output_type": "stream",
     "text": [
      "Rows: 32,406\n",
      "Columns: 20\n",
      "$ ...1                         \u001b[3m\u001b[90m<dbl>\u001b[39m\u001b[23m 3566, 3594, 3820, 3928, 3930, 4076, 4098,…\n",
      "$ date_received                \u001b[3m\u001b[90m<date>\u001b[39m\u001b[23m 2019-05-15, 2019-05-15, 2019-05-15, 2019…\n",
      "$ product                      \u001b[3m\u001b[90m<chr>\u001b[39m\u001b[23m \"Debt collection\", \"Credit reporting; cre…\n",
      "$ sub_product                  \u001b[3m\u001b[90m<chr>\u001b[39m\u001b[23m \"Medical debt\", \"Credit reporting\", \"Cred…\n",
      "$ issue                        \u001b[3m\u001b[90m<chr>\u001b[39m\u001b[23m \"Attempts to collect debt not owed\", \"Inc…\n",
      "$ sub_issue                    \u001b[3m\u001b[90m<chr>\u001b[39m\u001b[23m \"Debt was paid\", \"Account status incorrec…\n",
      "$ consumer_complaint_narrative \u001b[3m\u001b[90m<chr>\u001b[39m\u001b[23m NA, NA, NA, NA, NA, NA, NA, NA, NA, NA, N…\n",
      "$ company_public_response      \u001b[3m\u001b[90m<chr>\u001b[39m\u001b[23m NA, NA, NA, NA, NA, NA, NA, NA, NA, NA, N…\n",
      "$ company                      \u001b[3m\u001b[90m<chr>\u001b[39m\u001b[23m \"Credit Solutions\", \"MoneyLion Inc.\", \"Aa…\n",
      "$ state                        \u001b[3m\u001b[90m<chr>\u001b[39m\u001b[23m \"FL\", \"VA\", \"SC\", \"OH\", \"OH\", NA, \"MA\", \"…\n",
      "$ zip                          \u001b[3m\u001b[90m<chr>\u001b[39m\u001b[23m \"32828\", \"232XX\", \"29486\", \"44060\", \"452X…\n",
      "$ tags                         \u001b[3m\u001b[90m<chr>\u001b[39m\u001b[23m NA, NA, NA, NA, NA, NA, NA, NA, NA, NA, N…\n",
      "$ consumer_consent_provided    \u001b[3m\u001b[90m<chr>\u001b[39m\u001b[23m NA, NA, NA, NA, NA, NA, NA, NA, NA, \"Cons…\n",
      "$ submitted_via                \u001b[3m\u001b[90m<chr>\u001b[39m\u001b[23m \"Web\", \"Web\", \"Web\", \"Web\", \"Web\", \"Phone…\n",
      "$ date_sent_to_company         \u001b[3m\u001b[90m<date>\u001b[39m\u001b[23m 2019-05-15, 2019-05-15, 2019-05-15, 2019…\n",
      "$ company_response_to_consumer \u001b[3m\u001b[90m<chr>\u001b[39m\u001b[23m \"Untimely response\", \"Untimely response\",…\n",
      "$ timely_response              \u001b[3m\u001b[90m<chr>\u001b[39m\u001b[23m \"No\", \"No\", \"No\", \"No\", \"No\", \"No\", \"No\",…\n",
      "$ consumer_disputed            \u001b[3m\u001b[90m<chr>\u001b[39m\u001b[23m NA, NA, NA, NA, NA, NA, NA, NA, NA, NA, N…\n",
      "$ complaint_id                 \u001b[3m\u001b[90m<dbl>\u001b[39m\u001b[23m 3242583, 3243249, 3242904, 3242808, 32434…\n",
      "$ wait_time                    \u001b[3m\u001b[90m<drtn>\u001b[39m\u001b[23m 0 days, 0 days, 0 days, 0 days, 0 days, …\n",
      "Time difference of 3.075543 days\n",
      "Time difference of 6.570018 days\n",
      "[1] \"Web\"\n",
      "Time difference of 2.19497 days\n",
      "Time difference of 5.992264 days\n",
      "[1] \"Phone\"\n",
      "Time difference of 4.027386 days\n",
      "Time difference of 9.146613 days\n",
      "[1] \"Referral\"\n",
      "Time difference of 5.76798 days\n",
      "Time difference of 7.925483 days\n",
      "[1] \"Postal mail\"\n",
      "Time difference of 6.950344 days\n",
      "Time difference of 9.982114 days\n",
      "[1] \"Fax\"\n",
      "Time difference of 4.525889 days\n",
      "Time difference of 6.984615 days\n",
      "[1] \"Email\"\n",
      "Time difference of 7.654155 days\n",
      "Time difference of 4.1 days\n"
     ]
    },
    {
     "name": "stderr",
     "output_type": "stream",
     "text": [
      "\u001b[1m\u001b[22mDon't know how to automatically pick scale for object of type \u001b[34m<difftime>\u001b[39m.\n",
      "Defaulting to continuous.\n",
      "ERROR while rich displaying an object: \u001b[1m\u001b[33mError\u001b[39m in `geom_bar()`:\u001b[22m\n",
      "\u001b[1m\u001b[22m\u001b[33m!\u001b[39m Problem while setting up geom.\n",
      "\u001b[36mℹ\u001b[39m Error occurred in the 1st layer.\n",
      "\u001b[1mCaused by error in `compute_geom_1()`:\u001b[22m\n",
      "\u001b[1m\u001b[22m\u001b[33m!\u001b[39m `geom_bar()` requires the following missing aesthetics: \u001b[32my\u001b[39m\n",
      "\n",
      "Traceback:\n",
      "1. tryCatch(withCallingHandlers({\n",
      " .     if (!mime %in% names(repr::mime2repr)) \n",
      " .         stop(\"No repr_* for mimetype \", mime, \" in repr::mime2repr\")\n",
      " .     rpr <- repr::mime2repr[[mime]](obj)\n",
      " .     if (is.null(rpr)) \n",
      " .         return(NULL)\n",
      " .     prepare_content(is.raw(rpr), rpr)\n",
      " . }, error = error_handler), error = outer_handler)\n",
      "2. tryCatchList(expr, classes, parentenv, handlers)\n",
      "3. tryCatchOne(expr, names, parentenv, handlers[[1L]])\n",
      "4. doTryCatch(return(expr), name, parentenv, handler)\n",
      "5. withCallingHandlers({\n",
      " .     if (!mime %in% names(repr::mime2repr)) \n",
      " .         stop(\"No repr_* for mimetype \", mime, \" in repr::mime2repr\")\n",
      " .     rpr <- repr::mime2repr[[mime]](obj)\n",
      " .     if (is.null(rpr)) \n",
      " .         return(NULL)\n",
      " .     prepare_content(is.raw(rpr), rpr)\n",
      " . }, error = error_handler)\n",
      "6. repr::mime2repr[[mime]](obj)\n",
      "7. repr_text.default(obj)\n",
      "8. paste(capture.output(print(obj)), collapse = \"\\n\")\n",
      "9. capture.output(print(obj))\n",
      "10. withVisible(...elt(i))\n",
      "11. print(obj)\n",
      "12. print.ggplot(obj)\n",
      "13. ggplot_build(x)\n",
      "14. ggplot_build.ggplot(x)\n",
      "15. by_layer(function(l, d) l$compute_geom_1(d), layers, data, \"setting up geom\")\n",
      "16. try_fetch(for (i in seq_along(data)) {\n",
      "  .     out[[i]] <- f(l = layers[[i]], d = data[[i]])\n",
      "  . }, error = function(cnd) {\n",
      "  .     cli::cli_abort(c(\"Problem while {step}.\", i = \"Error occurred in the {ordinal(i)} layer.\"), \n",
      "  .         call = layers[[i]]$constructor, parent = cnd)\n",
      "  . })\n",
      "17. tryCatch(withCallingHandlers(expr, error = function(cnd) {\n",
      "  .     {\n",
      "  .         .__handler_frame__. <- TRUE\n",
      "  .         .__setup_frame__. <- frame\n",
      "  .     }\n",
      "  .     out <- handlers[[1L]](cnd)\n",
      "  .     if (!inherits(out, \"rlang_zap\")) \n",
      "  .         throw(out)\n",
      "  . }), stackOverflowError = handlers[[1L]])\n",
      "18. tryCatchList(expr, classes, parentenv, handlers)\n",
      "19. tryCatchOne(expr, names, parentenv, handlers[[1L]])\n",
      "20. doTryCatch(return(expr), name, parentenv, handler)\n",
      "21. withCallingHandlers(expr, error = function(cnd) {\n",
      "  .     {\n",
      "  .         .__handler_frame__. <- TRUE\n",
      "  .         .__setup_frame__. <- frame\n",
      "  .     }\n",
      "  .     out <- handlers[[1L]](cnd)\n",
      "  .     if (!inherits(out, \"rlang_zap\")) \n",
      "  .         throw(out)\n",
      "  . })\n",
      "22. f(l = layers[[i]], d = data[[i]])\n",
      "23. l$compute_geom_1(d)\n",
      "24. compute_geom_1(..., self = self)\n",
      "25. check_required_aesthetics(self$geom$required_aes, c(names(data), \n",
      "  .     names(self$aes_params)), snake_class(self$geom))\n",
      "26. cli::cli_abort(message, call = call)\n",
      "27. rlang::abort(message, ..., call = call, use_cli_format = TRUE, \n",
      "  .     .frame = .frame)\n",
      "28. signal_abort(cnd, .file)\n",
      "29. signalCondition(cnd)\n",
      "30. (function (cnd) \n",
      "  . {\n",
      "  .     {\n",
      "  .         .__handler_frame__. <- TRUE\n",
      "  .         .__setup_frame__. <- frame\n",
      "  .     }\n",
      "  .     out <- handlers[[1L]](cnd)\n",
      "  .     if (!inherits(out, \"rlang_zap\")) \n",
      "  .         throw(out)\n",
      "  . })(structure(list(message = \"`geom_bar()` requires the following missing aesthetics: \\033[32my\\033[39m\", \n",
      "  .     trace = structure(list(call = list(IRkernel::main(), kernel$run(), \n",
      "  .         handle_shell(), executor$execute(msg), tryCatch(evaluate(request$content$code, \n",
      "  .             envir = .GlobalEnv, output_handler = oh, stop_on_error = 1L), \n",
      "  .             interrupt = function(cond) {\n",
      "  .                 log_debug(\"Interrupt during execution\")\n",
      "  .                 interrupted <<- TRUE\n",
      "  .             }, error = .self$handle_error), tryCatchList(expr, \n",
      "  .             classes, parentenv, handlers), tryCatchOne(tryCatchList(expr, \n",
      "  .             names[-nh], parentenv, handlers[-nh]), names[nh], \n",
      "  .             parentenv, handlers[[nh]]), doTryCatch(return(expr), \n",
      "  .             name, parentenv, handler), tryCatchList(expr, names[-nh], \n",
      "  .             parentenv, handlers[-nh]), tryCatchOne(expr, names, \n",
      "  .             parentenv, handlers[[1L]]), doTryCatch(return(expr), \n",
      "  .             name, parentenv, handler), evaluate(request$content$code, \n",
      "  .             envir = .GlobalEnv, output_handler = oh, stop_on_error = 1L), \n",
      "  .         evaluate_call(expr, parsed$src[[i]], envir = envir, enclos = enclos, \n",
      "  .             debug = debug, last = i == length(out), use_try = stop_on_error != \n",
      "  .                 2L, keep_warning = keep_warning, keep_message = keep_message, \n",
      "  .             output_handler = output_handler, include_timing = include_timing), \n",
      "  .         handle(pv <- withCallingHandlers(withVisible(value_fun(ev$value, \n",
      "  .             ev$visible)), warning = wHandler, error = eHandler, \n",
      "  .             message = mHandler)), try(f, silent = TRUE), tryCatch(expr, \n",
      "  .             error = function(e) {\n",
      "  .                 call <- conditionCall(e)\n",
      "  .                 if (!is.null(call)) {\n",
      "  .                   if (identical(call[[1L]], quote(doTryCatch))) \n",
      "  .                     call <- sys.call(-4L)\n",
      "  .                   dcall <- deparse(call, nlines = 1L)\n",
      "  .                   prefix <- paste(\"Error in\", dcall, \": \")\n",
      "  .                   LONG <- 75L\n",
      "  .                   sm <- strsplit(conditionMessage(e), \"\\n\")[[1L]]\n",
      "  .                   w <- 14L + nchar(dcall, type = \"w\") + nchar(sm[1L], \n",
      "  .                     type = \"w\")\n",
      "  .                   if (is.na(w)) \n",
      "  .                     w <- 14L + nchar(dcall, type = \"b\") + nchar(sm[1L], \n",
      "  .                       type = \"b\")\n",
      "  .                   if (w > LONG) \n",
      "  .                     prefix <- paste0(prefix, \"\\n  \")\n",
      "  .                 }\n",
      "  .                 else prefix <- \"Error : \"\n",
      "  .                 msg <- paste0(prefix, conditionMessage(e), \"\\n\")\n",
      "  .                 .Internal(seterrmessage(msg[1L]))\n",
      "  .                 if (!silent && isTRUE(getOption(\"show.error.messages\"))) {\n",
      "  .                   cat(msg, file = outFile)\n",
      "  .                   .Internal(printDeferredWarnings())\n",
      "  .                 }\n",
      "  .                 invisible(structure(msg, class = \"try-error\", \n",
      "  .                   condition = e))\n",
      "  .             }), tryCatchList(expr, classes, parentenv, handlers), \n",
      "  .         tryCatchOne(expr, names, parentenv, handlers[[1L]]), \n",
      "  .         doTryCatch(return(expr), name, parentenv, handler), withCallingHandlers(withVisible(value_fun(ev$value, \n",
      "  .             ev$visible)), warning = wHandler, error = eHandler, \n",
      "  .             message = mHandler), withVisible(value_fun(ev$value, \n",
      "  .             ev$visible)), value_fun(ev$value, ev$visible), prepare_mimebundle_kernel(obj, \n",
      "  .             .self$handle_display_error), prepare_mimebundle(obj, \n",
      "  .             \"text/plain\", error_handler = handle_display_error), \n",
      "  .         filter_map(mimetypes, function(mime) {\n",
      "  .             tryCatch(withCallingHandlers({\n",
      "  .                 if (!mime %in% names(repr::mime2repr)) \n",
      "  .                   stop(\"No repr_* for mimetype \", mime, \" in repr::mime2repr\")\n",
      "  .                 rpr <- repr::mime2repr[[mime]](obj)\n",
      "  .                 if (is.null(rpr)) \n",
      "  .                   return(NULL)\n",
      "  .                 prepare_content(is.raw(rpr), rpr)\n",
      "  .             }, error = error_handler), error = outer_handler)\n",
      "  .         }), Filter(Negate(is.null), sapply(x, f, simplify = simplify)), \n",
      "  .         unlist(lapply(x, f)), lapply(x, f), sapply(x, f, simplify = simplify), \n",
      "  .         lapply(X = X, FUN = FUN, ...), FUN(X[[i]], ...), tryCatch(withCallingHandlers({\n",
      "  .             if (!mime %in% names(repr::mime2repr)) \n",
      "  .                 stop(\"No repr_* for mimetype \", mime, \" in repr::mime2repr\")\n",
      "  .             rpr <- repr::mime2repr[[mime]](obj)\n",
      "  .             if (is.null(rpr)) \n",
      "  .                 return(NULL)\n",
      "  .             prepare_content(is.raw(rpr), rpr)\n",
      "  .         }, error = error_handler), error = outer_handler), tryCatchList(expr, \n",
      "  .             classes, parentenv, handlers), tryCatchOne(expr, \n",
      "  .             names, parentenv, handlers[[1L]]), doTryCatch(return(expr), \n",
      "  .             name, parentenv, handler), withCallingHandlers({\n",
      "  .             if (!mime %in% names(repr::mime2repr)) \n",
      "  .                 stop(\"No repr_* for mimetype \", mime, \" in repr::mime2repr\")\n",
      "  .             rpr <- repr::mime2repr[[mime]](obj)\n",
      "  .             if (is.null(rpr)) \n",
      "  .                 return(NULL)\n",
      "  .             prepare_content(is.raw(rpr), rpr)\n",
      "  .         }, error = error_handler), repr::mime2repr[[mime]](obj), \n",
      "  .         repr_text.default(obj), paste(capture.output(print(obj)), \n",
      "  .             collapse = \"\\n\"), capture.output(print(obj)), withVisible(...elt(i)), \n",
      "  .         print(obj), print.ggplot(obj), ggplot_build(x), ggplot_build.ggplot(x), \n",
      "  .         by_layer(function(l, d) l$compute_geom_1(d), layers, \n",
      "  .             data, \"setting up geom\"), try_fetch(for (i in seq_along(data)) {\n",
      "  .             out[[i]] <- f(l = layers[[i]], d = data[[i]])\n",
      "  .         }, error = function(cnd) {\n",
      "  .             cli::cli_abort(c(\"Problem while {step}.\", i = \"Error occurred in the {ordinal(i)} layer.\"), \n",
      "  .                 call = layers[[i]]$constructor, parent = cnd)\n",
      "  .         }), tryCatch(withCallingHandlers(expr, error = function(cnd) {\n",
      "  .             {\n",
      "  .                 .__handler_frame__. <- TRUE\n",
      "  .                 .__setup_frame__. <- frame\n",
      "  .             }\n",
      "  .             out <- handlers[[1L]](cnd)\n",
      "  .             if (!inherits(out, \"rlang_zap\")) \n",
      "  .                 throw(out)\n",
      "  .         }), stackOverflowError = handlers[[1L]]), tryCatchList(expr, \n",
      "  .             classes, parentenv, handlers), tryCatchOne(expr, \n",
      "  .             names, parentenv, handlers[[1L]]), doTryCatch(return(expr), \n",
      "  .             name, parentenv, handler), withCallingHandlers(expr, \n",
      "  .             error = function(cnd) {\n",
      "  .                 {\n",
      "  .                   .__handler_frame__. <- TRUE\n",
      "  .                   .__setup_frame__. <- frame\n",
      "  .                 }\n",
      "  .                 out <- handlers[[1L]](cnd)\n",
      "  .                 if (!inherits(out, \"rlang_zap\")) \n",
      "  .                   throw(out)\n",
      "  .             }), f(l = layers[[i]], d = data[[i]]), l$compute_geom_1(d), \n",
      "  .         compute_geom_1(..., self = self), check_required_aesthetics(self$geom$required_aes, \n",
      "  .             c(names(data), names(self$aes_params)), snake_class(self$geom)), \n",
      "  .         cli::cli_abort(message, call = call), rlang::abort(message, \n",
      "  .             ..., call = call, use_cli_format = TRUE, .frame = .frame)), \n",
      "  .         parent = c(0L, 1L, 2L, 3L, 4L, 5L, 6L, 7L, 6L, 9L, 10L, \n",
      "  .         4L, 12L, 13L, 14L, 15L, 16L, 17L, 18L, 13L, 13L, 13L, \n",
      "  .         22L, 23L, 24L, 25L, 26L, 26L, 25L, 29L, 30L, 31L, 32L, \n",
      "  .         33L, 34L, 31L, 31L, 31L, 38L, 38L, 40L, 38L, 38L, 43L, \n",
      "  .         43L, 45L, 46L, 47L, 48L, 49L, 50L, 47L, 46L, 53L, 54L, \n",
      "  .         55L, 56L, 57L), visible = c(TRUE, TRUE, TRUE, TRUE, TRUE, \n",
      "  .         TRUE, TRUE, TRUE, TRUE, TRUE, TRUE, TRUE, TRUE, TRUE, \n",
      "  .         TRUE, TRUE, TRUE, TRUE, TRUE, TRUE, TRUE, TRUE, TRUE, \n",
      "  .         TRUE, TRUE, TRUE, TRUE, TRUE, TRUE, TRUE, TRUE, TRUE, \n",
      "  .         TRUE, TRUE, TRUE, TRUE, TRUE, TRUE, TRUE, TRUE, TRUE, \n",
      "  .         TRUE, TRUE, TRUE, TRUE, TRUE, TRUE, TRUE, TRUE, TRUE, \n",
      "  .         TRUE, TRUE, TRUE, TRUE, TRUE, FALSE, FALSE, FALSE), namespace = c(\"IRkernel\", \n",
      "  .         NA, \"IRkernel\", NA, \"base\", \"base\", \"base\", \"base\", \"base\", \n",
      "  .         \"base\", \"base\", \"evaluate\", \"evaluate\", \"evaluate\", \"base\", \n",
      "  .         \"base\", \"base\", \"base\", \"base\", \"base\", \"base\", \"IRkernel\", \n",
      "  .         \"IRkernel\", \"IRdisplay\", \"IRdisplay\", \"base\", \"base\", \n",
      "  .         \"base\", \"base\", \"base\", \"IRdisplay\", \"base\", \"base\", \n",
      "  .         \"base\", \"base\", \"base\", NA, \"repr\", \"base\", \"utils\", \n",
      "  .         \"base\", \"base\", \"ggplot2\", \"ggplot2\", \"ggplot2\", \"ggplot2\", \n",
      "  .         \"rlang\", \"base\", \"base\", \"base\", \"base\", \"base\", \"ggplot2\", \n",
      "  .         NA, \"ggplot2\", \"ggplot2\", \"cli\", \"rlang\"), scope = c(\"::\", \n",
      "  .         NA, \"local\", NA, \"::\", \"local\", \"local\", \"local\", \"local\", \n",
      "  .         \"local\", \"local\", \"::\", \":::\", \"local\", \"::\", \"::\", \"local\", \n",
      "  .         \"local\", \"local\", \"::\", \"::\", \"local\", \":::\", \"::\", \":::\", \n",
      "  .         \"::\", \"::\", \"::\", \"::\", \"::\", \"local\", \"::\", \"local\", \n",
      "  .         \"local\", \"local\", \"::\", NA, \":::\", \"::\", \"::\", \"::\", \n",
      "  .         \"::\", \":::\", \"::\", \":::\", \":::\", \"::\", \"::\", \"local\", \n",
      "  .         \"local\", \"local\", \"::\", \"local\", NA, \"local\", \":::\", \n",
      "  .         \"::\", \"::\"), error_frame = c(FALSE, FALSE, FALSE, FALSE, \n",
      "  .         FALSE, FALSE, FALSE, FALSE, FALSE, FALSE, FALSE, FALSE, \n",
      "  .         FALSE, FALSE, FALSE, FALSE, FALSE, FALSE, FALSE, FALSE, \n",
      "  .         FALSE, FALSE, FALSE, FALSE, FALSE, FALSE, FALSE, FALSE, \n",
      "  .         FALSE, FALSE, FALSE, FALSE, FALSE, FALSE, FALSE, FALSE, \n",
      "  .         FALSE, FALSE, FALSE, FALSE, FALSE, FALSE, FALSE, FALSE, \n",
      "  .         FALSE, FALSE, FALSE, FALSE, FALSE, FALSE, FALSE, FALSE, \n",
      "  .         FALSE, FALSE, TRUE, FALSE, FALSE, FALSE)), row.names = c(NA, \n",
      "  .     -58L), version = 2L, class = c(\"rlang_trace\", \"rlib_trace\", \n",
      "  .     \"tbl\", \"data.frame\")), parent = NULL, call = compute_geom_1(..., \n",
      "  .         self = self), use_cli_format = TRUE), class = c(\"rlang_error\", \n",
      "  . \"error\", \"condition\")))\n",
      "31. handlers[[1L]](cnd)\n",
      "32. cli::cli_abort(c(\"Problem while {step}.\", i = \"Error occurred in the {ordinal(i)} layer.\"), \n",
      "  .     call = layers[[i]]$constructor, parent = cnd)\n",
      "33. rlang::abort(message, ..., call = call, use_cli_format = TRUE, \n",
      "  .     .frame = .frame)\n",
      "34. signal_abort(cnd, .file)\n"
     ]
    }
   ],
   "source": [
    "timely_responses = dat[dat$timely_response == \"Yes\",]\n",
    "late_responses = dat[dat$timely_response == \"No\",]\n",
    "glimpse(late_responses)\n",
    "\n",
    "print(mean(timely_responses$wait_time))\n",
    "print(mean(late_responses$wait_time, na.rm = TRUE))\n",
    "\n",
    "for (cat in unique(dat$submitted_via)) {\n",
    "    print(cat)\n",
    "    print(mean(timely_responses[timely_responses$submitted_via == cat,]$wait_time))\n",
    "    print(mean(late_responses[late_responses$submitted_via == cat,]$wait_time, na.rm = TRUE))\n",
    "}\n",
    "\n",
    "# make a double bar graph of two bars next to each other, one for timely responses and one for late responses\n",
    "\n",
    "wait_time_bar <- ggplot(wait_time_stats, aes(x = mean_wait_time, fill = submitted_via), y = mean_wait_time) +\n",
    "  geom_bar(stat = \"identity\") +\n",
    "  labs(title = \"Mean wait time by submitted_via\",\n",
    "       x = \"submitted_via\",\n",
    "       y = \"mean wait time (days)\")\n",
    "wait_time_bar\n"
   ]
  },
  {
   "cell_type": "markdown",
   "id": "f76442d6-d02e-4f26-b9d6-c3183e1d6929",
   "metadata": {},
   "source": [
    "## Pledge\n",
    "\n",
    "By submitting this work I hereby pledge that this is my own, personal work. I've acknowledged in the designated place at the top of this file all sources that I used to complete said work, including but not limited to: online resources, books, and electronic communications. I've noted all collaboration with fellow students and/or TA's. I did not copy or plagiarize another's work.\n",
    "\n",
    "> As a Boilermaker pursuing academic excellence, I pledge to be honest and true in all that I do. Accountable together – We are Purdue."
   ]
  }
 ],
 "metadata": {
  "kernelspec": {
   "display_name": "f2022-s2023-r",
   "language": "R",
   "name": "f2022-s2023-r"
  },
  "language_info": {
   "codemirror_mode": "r",
   "file_extension": ".r",
   "mimetype": "text/x-r-source",
   "name": "R",
   "pygments_lexer": "r",
   "version": "4.2.2"
  }
 },
 "nbformat": 4,
 "nbformat_minor": 5
}
