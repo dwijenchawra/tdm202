{
 "cells": [
  {
   "attachments": {},
   "cell_type": "markdown",
   "id": "be02a957-7133-4d02-818e-fedeb3cecb05",
   "metadata": {},
   "source": [
    "# Project 12 -- Dwijen Chawra"
   ]
  },
  {
   "cell_type": "markdown",
   "id": "6180e742-8e39-4698-98ff-5b00c8cf8ea0",
   "metadata": {},
   "source": [
    "## Question 1"
   ]
  },
  {
   "cell_type": "code",
   "execution_count": 1,
   "id": "9dba487c",
   "metadata": {
    "vscode": {
     "languageId": "r"
    }
   },
   "outputs": [
    {
     "name": "stderr",
     "output_type": "stream",
     "text": [
      "Warning message in system(\"timedatectl\", intern = TRUE):\n",
      "“running command 'timedatectl' had status 1”\n",
      "── \u001b[1mAttaching packages\u001b[22m ─────────────────────────────────────── tidyverse 1.3.2 ──\n",
      "\u001b[32m✔\u001b[39m \u001b[34mggplot2\u001b[39m 3.4.0     \u001b[32m✔\u001b[39m \u001b[34mpurrr  \u001b[39m 1.0.1\n",
      "\u001b[32m✔\u001b[39m \u001b[34mtibble \u001b[39m 3.1.8     \u001b[32m✔\u001b[39m \u001b[34mdplyr  \u001b[39m 1.1.0\n",
      "\u001b[32m✔\u001b[39m \u001b[34mtidyr  \u001b[39m 1.3.0     \u001b[32m✔\u001b[39m \u001b[34mstringr\u001b[39m 1.5.0\n",
      "\u001b[32m✔\u001b[39m \u001b[34mreadr  \u001b[39m 2.1.3     \u001b[32m✔\u001b[39m \u001b[34mforcats\u001b[39m 1.0.0\n",
      "── \u001b[1mConflicts\u001b[22m ────────────────────────────────────────── tidyverse_conflicts() ──\n",
      "\u001b[31m✖\u001b[39m \u001b[34mdplyr\u001b[39m::\u001b[32mfilter()\u001b[39m masks \u001b[34mstats\u001b[39m::filter()\n",
      "\u001b[31m✖\u001b[39m \u001b[34mdplyr\u001b[39m::\u001b[32mlag()\u001b[39m    masks \u001b[34mstats\u001b[39m::lag()\n",
      "\u001b[1m\u001b[22mNew names:\n",
      "\u001b[36m•\u001b[39m `` -> `...1`\n",
      "\u001b[1mRows: \u001b[22m\u001b[34m1296353\u001b[39m \u001b[1mColumns: \u001b[22m\u001b[34m19\u001b[39m\n",
      "\u001b[36m──\u001b[39m \u001b[1mColumn specification\u001b[22m \u001b[36m────────────────────────────────────────────────────────\u001b[39m\n",
      "\u001b[1mDelimiter:\u001b[22m \",\"\n",
      "\u001b[31mchr\u001b[39m (17): date_received, product, sub_product, issue, sub_issue, consumer_co...\n",
      "\u001b[32mdbl\u001b[39m  (2): ...1, complaint_id\n",
      "\n",
      "\u001b[36mℹ\u001b[39m Use `spec()` to retrieve the full column specification for this data.\n",
      "\u001b[36mℹ\u001b[39m Specify the column types or set `show_col_types = FALSE` to quiet this message.\n"
     ]
    }
   ],
   "source": [
    "library(tidyverse)\n",
    "dat <- read_csv(\"/anvil/projects/tdm/data/consumer_complaints/processed.csv\")"
   ]
  },
  {
   "cell_type": "code",
   "execution_count": 2,
   "id": "10110c91",
   "metadata": {
    "vscode": {
     "languageId": "r"
    }
   },
   "outputs": [
    {
     "name": "stdout",
     "output_type": "stream",
     "text": [
      "Rows: 1,296,353\n",
      "Columns: 19\n",
      "$ ...1                         \u001b[3m\u001b[90m<dbl>\u001b[39m\u001b[23m 0, 1, 2, 3, 4, 5, 6, 7, 8, 9, 10, 11, 12,…\n",
      "$ date_received                \u001b[3m\u001b[90m<chr>\u001b[39m\u001b[23m \"05/30/2019\", \"05/30/2019\", \"05/30/2019\",…\n",
      "$ product                      \u001b[3m\u001b[90m<chr>\u001b[39m\u001b[23m \"Credit reporting; credit repair services…\n",
      "$ sub_product                  \u001b[3m\u001b[90m<chr>\u001b[39m\u001b[23m \"Credit reporting\", \"Checking account\", \"…\n",
      "$ issue                        \u001b[3m\u001b[90m<chr>\u001b[39m\u001b[23m \"Incorrect information on your report\", \"…\n",
      "$ sub_issue                    \u001b[3m\u001b[90m<chr>\u001b[39m\u001b[23m \"Old information reappears or never goes …\n",
      "$ consumer_complaint_narrative \u001b[3m\u001b[90m<chr>\u001b[39m\u001b[23m NA, NA, NA, NA, NA, NA, NA, NA, NA, NA, N…\n",
      "$ company_public_response      \u001b[3m\u001b[90m<chr>\u001b[39m\u001b[23m NA, NA, NA, NA, NA, NA, NA, NA, NA, NA, N…\n",
      "$ company                      \u001b[3m\u001b[90m<chr>\u001b[39m\u001b[23m \"Statewide Credit Services Corp.\", \"NAVY …\n",
      "$ state                        \u001b[3m\u001b[90m<chr>\u001b[39m\u001b[23m \"PA\", \"MD\", \"OR\", \"AL\", \"IL\", \"OH\", \"NC\",…\n",
      "$ zip                          \u001b[3m\u001b[90m<chr>\u001b[39m\u001b[23m \"170XX\", \"20746\", \"973XX\", NA, \"606XX\", \"…\n",
      "$ tags                         \u001b[3m\u001b[90m<chr>\u001b[39m\u001b[23m \"Older American\", NA, NA, NA, \"Older Amer…\n",
      "$ consumer_consent_provided    \u001b[3m\u001b[90m<chr>\u001b[39m\u001b[23m NA, NA, NA, NA, NA, NA, NA, NA, NA, NA, N…\n",
      "$ submitted_via                \u001b[3m\u001b[90m<chr>\u001b[39m\u001b[23m \"Web\", \"Web\", \"Web\", \"Web\", \"Web\", \"Web\",…\n",
      "$ date_sent_to_company         \u001b[3m\u001b[90m<chr>\u001b[39m\u001b[23m \"05/30/2019\", \"05/30/2019\", \"05/30/2019\",…\n",
      "$ company_response_to_consumer \u001b[3m\u001b[90m<chr>\u001b[39m\u001b[23m \"Closed with explanation\", \"In progress\",…\n",
      "$ timely_response              \u001b[3m\u001b[90m<chr>\u001b[39m\u001b[23m \"Yes\", \"Yes\", \"Yes\", \"Yes\", \"Yes\", \"Yes\",…\n",
      "$ consumer_disputed            \u001b[3m\u001b[90m<chr>\u001b[39m\u001b[23m NA, NA, NA, NA, NA, NA, NA, NA, NA, NA, N…\n",
      "$ complaint_id                 \u001b[3m\u001b[90m<dbl>\u001b[39m\u001b[23m 3256553, 3258621, 3257989, 3257708, 32576…\n"
     ]
    }
   ],
   "source": [
    "glimpse(dat)"
   ]
  },
  {
   "attachments": {},
   "cell_type": "markdown",
   "id": "815ca5bb",
   "metadata": {},
   "source": [
    "The data in the \"date sent to company\" columns and the \"date received\" columns is all characters right now, but they are both formatted as dates. I do not think it is in the right format right now, but we can convert them to proper dates and drop the unclean dates."
   ]
  },
  {
   "attachments": {},
   "cell_type": "markdown",
   "id": "4d2ea942",
   "metadata": {},
   "source": [
    "## Question 2"
   ]
  },
  {
   "cell_type": "code",
   "execution_count": 3,
   "id": "796c6888",
   "metadata": {
    "vscode": {
     "languageId": "r"
    }
   },
   "outputs": [
    {
     "name": "stderr",
     "output_type": "stream",
     "text": [
      "\n",
      "Attaching package: ‘lubridate’\n",
      "\n",
      "\n",
      "The following objects are masked from ‘package:base’:\n",
      "\n",
      "    date, intersect, setdiff, union\n",
      "\n",
      "\n"
     ]
    },
    {
     "name": "stdout",
     "output_type": "stream",
     "text": [
      "Rows: 1,296,353\n",
      "Columns: 19\n",
      "$ ...1                         \u001b[3m\u001b[90m<dbl>\u001b[39m\u001b[23m 0, 1, 2, 3, 4, 5, 6, 7, 8, 9, 10, 11, 12,…\n",
      "$ date_received                \u001b[3m\u001b[90m<date>\u001b[39m\u001b[23m 2019-05-30, 2019-05-30, 2019-05-30, 2019…\n",
      "$ product                      \u001b[3m\u001b[90m<chr>\u001b[39m\u001b[23m \"Credit reporting; credit repair services…\n",
      "$ sub_product                  \u001b[3m\u001b[90m<chr>\u001b[39m\u001b[23m \"Credit reporting\", \"Checking account\", \"…\n",
      "$ issue                        \u001b[3m\u001b[90m<chr>\u001b[39m\u001b[23m \"Incorrect information on your report\", \"…\n",
      "$ sub_issue                    \u001b[3m\u001b[90m<chr>\u001b[39m\u001b[23m \"Old information reappears or never goes …\n",
      "$ consumer_complaint_narrative \u001b[3m\u001b[90m<chr>\u001b[39m\u001b[23m NA, NA, NA, NA, NA, NA, NA, NA, NA, NA, N…\n",
      "$ company_public_response      \u001b[3m\u001b[90m<chr>\u001b[39m\u001b[23m NA, NA, NA, NA, NA, NA, NA, NA, NA, NA, N…\n",
      "$ company                      \u001b[3m\u001b[90m<chr>\u001b[39m\u001b[23m \"Statewide Credit Services Corp.\", \"NAVY …\n",
      "$ state                        \u001b[3m\u001b[90m<chr>\u001b[39m\u001b[23m \"PA\", \"MD\", \"OR\", \"AL\", \"IL\", \"OH\", \"NC\",…\n",
      "$ zip                          \u001b[3m\u001b[90m<chr>\u001b[39m\u001b[23m \"170XX\", \"20746\", \"973XX\", NA, \"606XX\", \"…\n",
      "$ tags                         \u001b[3m\u001b[90m<chr>\u001b[39m\u001b[23m \"Older American\", NA, NA, NA, \"Older Amer…\n",
      "$ consumer_consent_provided    \u001b[3m\u001b[90m<chr>\u001b[39m\u001b[23m NA, NA, NA, NA, NA, NA, NA, NA, NA, NA, N…\n",
      "$ submitted_via                \u001b[3m\u001b[90m<chr>\u001b[39m\u001b[23m \"Web\", \"Web\", \"Web\", \"Web\", \"Web\", \"Web\",…\n",
      "$ date_sent_to_company         \u001b[3m\u001b[90m<date>\u001b[39m\u001b[23m 2019-05-30, 2019-05-30, 2019-05-30, 2019…\n",
      "$ company_response_to_consumer \u001b[3m\u001b[90m<chr>\u001b[39m\u001b[23m \"Closed with explanation\", \"In progress\",…\n",
      "$ timely_response              \u001b[3m\u001b[90m<chr>\u001b[39m\u001b[23m \"Yes\", \"Yes\", \"Yes\", \"Yes\", \"Yes\", \"Yes\",…\n",
      "$ consumer_disputed            \u001b[3m\u001b[90m<chr>\u001b[39m\u001b[23m NA, NA, NA, NA, NA, NA, NA, NA, NA, NA, N…\n",
      "$ complaint_id                 \u001b[3m\u001b[90m<dbl>\u001b[39m\u001b[23m 3256553, 3258621, 3257989, 3257708, 32576…\n"
     ]
    }
   ],
   "source": [
    "library(lubridate)\n",
    "\n",
    "# convert date_received and date_sent_to_company to date format.\n",
    "# they are in the format mm/dd/yyyy\n",
    "dat$date_received <- mdy(dat$date_received)\n",
    "dat$date_sent_to_company <- mdy(dat$date_sent_to_company)\n",
    "\n",
    "glimpse(dat)"
   ]
  },
  {
   "attachments": {},
   "cell_type": "markdown",
   "id": "1c1ad48e",
   "metadata": {},
   "source": [
    "## Question 3"
   ]
  },
  {
   "cell_type": "code",
   "execution_count": 4,
   "id": "02b3835d",
   "metadata": {
    "vscode": {
     "languageId": "r"
    }
   },
   "outputs": [
    {
     "name": "stdout",
     "output_type": "stream",
     "text": [
      "Rows: 1,296,353\n",
      "Columns: 20\n",
      "$ ...1                         \u001b[3m\u001b[90m<dbl>\u001b[39m\u001b[23m 0, 1, 2, 3, 4, 5, 6, 7, 8, 9, 10, 11, 12,…\n",
      "$ date_received                \u001b[3m\u001b[90m<date>\u001b[39m\u001b[23m 2019-05-30, 2019-05-30, 2019-05-30, 2019…\n",
      "$ product                      \u001b[3m\u001b[90m<chr>\u001b[39m\u001b[23m \"Credit reporting; credit repair services…\n",
      "$ sub_product                  \u001b[3m\u001b[90m<chr>\u001b[39m\u001b[23m \"Credit reporting\", \"Checking account\", \"…\n",
      "$ issue                        \u001b[3m\u001b[90m<chr>\u001b[39m\u001b[23m \"Incorrect information on your report\", \"…\n",
      "$ sub_issue                    \u001b[3m\u001b[90m<chr>\u001b[39m\u001b[23m \"Old information reappears or never goes …\n",
      "$ consumer_complaint_narrative \u001b[3m\u001b[90m<chr>\u001b[39m\u001b[23m NA, NA, NA, NA, NA, NA, NA, NA, NA, NA, N…\n",
      "$ company_public_response      \u001b[3m\u001b[90m<chr>\u001b[39m\u001b[23m NA, NA, NA, NA, NA, NA, NA, NA, NA, NA, N…\n",
      "$ company                      \u001b[3m\u001b[90m<chr>\u001b[39m\u001b[23m \"Statewide Credit Services Corp.\", \"NAVY …\n",
      "$ state                        \u001b[3m\u001b[90m<chr>\u001b[39m\u001b[23m \"PA\", \"MD\", \"OR\", \"AL\", \"IL\", \"OH\", \"NC\",…\n",
      "$ zip                          \u001b[3m\u001b[90m<chr>\u001b[39m\u001b[23m \"170XX\", \"20746\", \"973XX\", NA, \"606XX\", \"…\n",
      "$ tags                         \u001b[3m\u001b[90m<chr>\u001b[39m\u001b[23m \"Older American\", NA, NA, NA, \"Older Amer…\n",
      "$ consumer_consent_provided    \u001b[3m\u001b[90m<chr>\u001b[39m\u001b[23m NA, NA, NA, NA, NA, NA, NA, NA, NA, NA, N…\n",
      "$ submitted_via                \u001b[3m\u001b[90m<chr>\u001b[39m\u001b[23m \"Web\", \"Web\", \"Web\", \"Web\", \"Web\", \"Web\",…\n",
      "$ date_sent_to_company         \u001b[3m\u001b[90m<date>\u001b[39m\u001b[23m 2019-05-30, 2019-05-30, 2019-05-30, 2019…\n",
      "$ company_response_to_consumer \u001b[3m\u001b[90m<chr>\u001b[39m\u001b[23m \"Closed with explanation\", \"In progress\",…\n",
      "$ timely_response              \u001b[3m\u001b[90m<chr>\u001b[39m\u001b[23m \"Yes\", \"Yes\", \"Yes\", \"Yes\", \"Yes\", \"Yes\",…\n",
      "$ consumer_disputed            \u001b[3m\u001b[90m<chr>\u001b[39m\u001b[23m NA, NA, NA, NA, NA, NA, NA, NA, NA, NA, N…\n",
      "$ complaint_id                 \u001b[3m\u001b[90m<dbl>\u001b[39m\u001b[23m 3256553, 3258621, 3257989, 3257708, 32576…\n",
      "$ wait_time                    \u001b[3m\u001b[90m<drtn>\u001b[39m\u001b[23m 0 days, 0 days, 0 days, 0 days, 0 days, …\n"
     ]
    }
   ],
   "source": [
    "dat <- dat %>% \n",
    "  mutate(wait_time = difftime(dat$date_sent_to_company, dat$date_received, units = \"days\"))\n",
    "\n",
    "glimpse(dat)"
   ]
  },
  {
   "attachments": {},
   "cell_type": "markdown",
   "id": "84533591",
   "metadata": {},
   "source": [
    "## Question 4"
   ]
  },
  {
   "cell_type": "code",
   "execution_count": 13,
   "id": "8b33219c",
   "metadata": {
    "vscode": {
     "languageId": "r"
    }
   },
   "outputs": [
    {
     "data": {
      "text/plain": [
       "  Length    Class     Mode \n",
       " 1296353 difftime  numeric "
      ]
     },
     "metadata": {},
     "output_type": "display_data"
    },
    {
     "data": {
      "text/plain": [
       "Time difference of 3.162897 days"
      ]
     },
     "metadata": {},
     "output_type": "display_data"
    },
    {
     "data": {
      "text/plain": [
       "Time difference of 0 days"
      ]
     },
     "metadata": {},
     "output_type": "display_data"
    },
    {
     "data": {
      "text/plain": [
       "Time difference of 1962 days"
      ]
     },
     "metadata": {},
     "output_type": "display_data"
    }
   ],
   "source": [
    "# display stats for wait_time\n",
    "summary(dat$wait_time)\n",
    "mean(dat$wait_time)\n",
    "median(dat$wait_time)\n",
    "max(dat$wait_time)\n"
   ]
  },
  {
   "attachments": {},
   "cell_type": "markdown",
   "id": "4ed6de14",
   "metadata": {},
   "source": [
    "## Question 5"
   ]
  },
  {
   "cell_type": "markdown",
   "id": "f76442d6-d02e-4f26-b9d6-c3183e1d6929",
   "metadata": {},
   "source": [
    "## Pledge\n",
    "\n",
    "By submitting this work I hereby pledge that this is my own, personal work. I've acknowledged in the designated place at the top of this file all sources that I used to complete said work, including but not limited to: online resources, books, and electronic communications. I've noted all collaboration with fellow students and/or TA's. I did not copy or plagiarize another's work.\n",
    "\n",
    "> As a Boilermaker pursuing academic excellence, I pledge to be honest and true in all that I do. Accountable together – We are Purdue."
   ]
  }
 ],
 "metadata": {
  "kernelspec": {
   "display_name": "f2022-s2023-r",
   "language": "R",
   "name": "f2022-s2023-r"
  },
  "language_info": {
   "codemirror_mode": "r",
   "file_extension": ".r",
   "mimetype": "text/x-r-source",
   "name": "R",
   "pygments_lexer": "r",
   "version": "4.2.2"
  }
 },
 "nbformat": 4,
 "nbformat_minor": 5
}
