{
 "cells": [
  {
   "attachments": {},
   "cell_type": "markdown",
   "id": "be02a957-7133-4d02-818e-fedeb3cecb05",
   "metadata": {},
   "source": [
    "# Project 12 -- Dwijen Chawra"
   ]
  },
  {
   "cell_type": "markdown",
   "id": "6180e742-8e39-4698-98ff-5b00c8cf8ea0",
   "metadata": {},
   "source": [
    "## Question 1"
   ]
  },
  {
   "cell_type": "code",
   "execution_count": 17,
   "id": "9dba487c",
   "metadata": {
    "vscode": {
     "languageId": "r"
    }
   },
   "outputs": [
    {
     "name": "stderr",
     "output_type": "stream",
     "text": [
      "\u001b[1m\u001b[22mNew names:\n",
      "\u001b[36m•\u001b[39m `` -> `...1`\n",
      "\u001b[1mRows: \u001b[22m\u001b[34m1296353\u001b[39m \u001b[1mColumns: \u001b[22m\u001b[34m19\u001b[39m\n",
      "\u001b[36m──\u001b[39m \u001b[1mColumn specification\u001b[22m \u001b[36m────────────────────────────────────────────────────────\u001b[39m\n",
      "\u001b[1mDelimiter:\u001b[22m \",\"\n",
      "\u001b[31mchr\u001b[39m (17): date_received, product, sub_product, issue, sub_issue, consumer_co...\n",
      "\u001b[32mdbl\u001b[39m  (2): ...1, complaint_id\n",
      "\n",
      "\u001b[36mℹ\u001b[39m Use `spec()` to retrieve the full column specification for this data.\n",
      "\u001b[36mℹ\u001b[39m Specify the column types or set `show_col_types = FALSE` to quiet this message.\n"
     ]
    }
   ],
   "source": [
    "library(tidyverse)\n",
    "dat <- read_csv(\"/anvil/projects/tdm/data/consumer_complaints/processed.csv\")"
   ]
  },
  {
   "cell_type": "code",
   "execution_count": 18,
   "id": "10110c91",
   "metadata": {
    "vscode": {
     "languageId": "r"
    }
   },
   "outputs": [
    {
     "name": "stdout",
     "output_type": "stream",
     "text": [
      "Rows: 1,296,353\n",
      "Columns: 19\n",
      "$ ...1                         \u001b[3m\u001b[90m<dbl>\u001b[39m\u001b[23m 0, 1, 2, 3, 4, 5, 6, 7, 8, 9, 10, 11, 12,…\n",
      "$ date_received                \u001b[3m\u001b[90m<chr>\u001b[39m\u001b[23m \"05/30/2019\", \"05/30/2019\", \"05/30/2019\",…\n",
      "$ product                      \u001b[3m\u001b[90m<chr>\u001b[39m\u001b[23m \"Credit reporting; credit repair services…\n",
      "$ sub_product                  \u001b[3m\u001b[90m<chr>\u001b[39m\u001b[23m \"Credit reporting\", \"Checking account\", \"…\n",
      "$ issue                        \u001b[3m\u001b[90m<chr>\u001b[39m\u001b[23m \"Incorrect information on your report\", \"…\n",
      "$ sub_issue                    \u001b[3m\u001b[90m<chr>\u001b[39m\u001b[23m \"Old information reappears or never goes …\n",
      "$ consumer_complaint_narrative \u001b[3m\u001b[90m<chr>\u001b[39m\u001b[23m NA, NA, NA, NA, NA, NA, NA, NA, NA, NA, N…\n",
      "$ company_public_response      \u001b[3m\u001b[90m<chr>\u001b[39m\u001b[23m NA, NA, NA, NA, NA, NA, NA, NA, NA, NA, N…\n",
      "$ company                      \u001b[3m\u001b[90m<chr>\u001b[39m\u001b[23m \"Statewide Credit Services Corp.\", \"NAVY …\n",
      "$ state                        \u001b[3m\u001b[90m<chr>\u001b[39m\u001b[23m \"PA\", \"MD\", \"OR\", \"AL\", \"IL\", \"OH\", \"NC\",…\n",
      "$ zip                          \u001b[3m\u001b[90m<chr>\u001b[39m\u001b[23m \"170XX\", \"20746\", \"973XX\", NA, \"606XX\", \"…\n",
      "$ tags                         \u001b[3m\u001b[90m<chr>\u001b[39m\u001b[23m \"Older American\", NA, NA, NA, \"Older Amer…\n",
      "$ consumer_consent_provided    \u001b[3m\u001b[90m<chr>\u001b[39m\u001b[23m NA, NA, NA, NA, NA, NA, NA, NA, NA, NA, N…\n",
      "$ submitted_via                \u001b[3m\u001b[90m<chr>\u001b[39m\u001b[23m \"Web\", \"Web\", \"Web\", \"Web\", \"Web\", \"Web\",…\n",
      "$ date_sent_to_company         \u001b[3m\u001b[90m<chr>\u001b[39m\u001b[23m \"05/30/2019\", \"05/30/2019\", \"05/30/2019\",…\n",
      "$ company_response_to_consumer \u001b[3m\u001b[90m<chr>\u001b[39m\u001b[23m \"Closed with explanation\", \"In progress\",…\n",
      "$ timely_response              \u001b[3m\u001b[90m<chr>\u001b[39m\u001b[23m \"Yes\", \"Yes\", \"Yes\", \"Yes\", \"Yes\", \"Yes\",…\n",
      "$ consumer_disputed            \u001b[3m\u001b[90m<chr>\u001b[39m\u001b[23m NA, NA, NA, NA, NA, NA, NA, NA, NA, NA, N…\n",
      "$ complaint_id                 \u001b[3m\u001b[90m<dbl>\u001b[39m\u001b[23m 3256553, 3258621, 3257989, 3257708, 32576…\n"
     ]
    }
   ],
   "source": [
    "glimpse(dat)"
   ]
  },
  {
   "attachments": {},
   "cell_type": "markdown",
   "id": "815ca5bb",
   "metadata": {},
   "source": [
    "The data in the \"date sent to company\" columns and the \"date received\" columns is all characters right now, but they are both formatted as dates. I do not think it is in the right format right now, but we can convert them to proper dates and drop the unclean dates."
   ]
  },
  {
   "attachments": {},
   "cell_type": "markdown",
   "id": "4d2ea942",
   "metadata": {},
   "source": [
    "## Question 2"
   ]
  },
  {
   "cell_type": "code",
   "execution_count": 19,
   "id": "796c6888",
   "metadata": {
    "vscode": {
     "languageId": "r"
    }
   },
   "outputs": [
    {
     "name": "stdout",
     "output_type": "stream",
     "text": [
      "Rows: 1,296,353\n",
      "Columns: 19\n",
      "$ ...1                         \u001b[3m\u001b[90m<dbl>\u001b[39m\u001b[23m 0, 1, 2, 3, 4, 5, 6, 7, 8, 9, 10, 11, 12,…\n",
      "$ date_received                \u001b[3m\u001b[90m<date>\u001b[39m\u001b[23m 2019-05-30, 2019-05-30, 2019-05-30, 2019…\n",
      "$ product                      \u001b[3m\u001b[90m<chr>\u001b[39m\u001b[23m \"Credit reporting; credit repair services…\n",
      "$ sub_product                  \u001b[3m\u001b[90m<chr>\u001b[39m\u001b[23m \"Credit reporting\", \"Checking account\", \"…\n",
      "$ issue                        \u001b[3m\u001b[90m<chr>\u001b[39m\u001b[23m \"Incorrect information on your report\", \"…\n",
      "$ sub_issue                    \u001b[3m\u001b[90m<chr>\u001b[39m\u001b[23m \"Old information reappears or never goes …\n",
      "$ consumer_complaint_narrative \u001b[3m\u001b[90m<chr>\u001b[39m\u001b[23m NA, NA, NA, NA, NA, NA, NA, NA, NA, NA, N…\n",
      "$ company_public_response      \u001b[3m\u001b[90m<chr>\u001b[39m\u001b[23m NA, NA, NA, NA, NA, NA, NA, NA, NA, NA, N…\n",
      "$ company                      \u001b[3m\u001b[90m<chr>\u001b[39m\u001b[23m \"Statewide Credit Services Corp.\", \"NAVY …\n",
      "$ state                        \u001b[3m\u001b[90m<chr>\u001b[39m\u001b[23m \"PA\", \"MD\", \"OR\", \"AL\", \"IL\", \"OH\", \"NC\",…\n",
      "$ zip                          \u001b[3m\u001b[90m<chr>\u001b[39m\u001b[23m \"170XX\", \"20746\", \"973XX\", NA, \"606XX\", \"…\n",
      "$ tags                         \u001b[3m\u001b[90m<chr>\u001b[39m\u001b[23m \"Older American\", NA, NA, NA, \"Older Amer…\n",
      "$ consumer_consent_provided    \u001b[3m\u001b[90m<chr>\u001b[39m\u001b[23m NA, NA, NA, NA, NA, NA, NA, NA, NA, NA, N…\n",
      "$ submitted_via                \u001b[3m\u001b[90m<chr>\u001b[39m\u001b[23m \"Web\", \"Web\", \"Web\", \"Web\", \"Web\", \"Web\",…\n",
      "$ date_sent_to_company         \u001b[3m\u001b[90m<date>\u001b[39m\u001b[23m 2019-05-30, 2019-05-30, 2019-05-30, 2019…\n",
      "$ company_response_to_consumer \u001b[3m\u001b[90m<chr>\u001b[39m\u001b[23m \"Closed with explanation\", \"In progress\",…\n",
      "$ timely_response              \u001b[3m\u001b[90m<chr>\u001b[39m\u001b[23m \"Yes\", \"Yes\", \"Yes\", \"Yes\", \"Yes\", \"Yes\",…\n",
      "$ consumer_disputed            \u001b[3m\u001b[90m<chr>\u001b[39m\u001b[23m NA, NA, NA, NA, NA, NA, NA, NA, NA, NA, N…\n",
      "$ complaint_id                 \u001b[3m\u001b[90m<dbl>\u001b[39m\u001b[23m 3256553, 3258621, 3257989, 3257708, 32576…\n"
     ]
    }
   ],
   "source": [
    "library(lubridate)\n",
    "\n",
    "# convert date_received and date_sent_to_company to date format.\n",
    "# they are in the format mm/dd/yyyy\n",
    "dat$date_received <- mdy(dat$date_received)\n",
    "dat$date_sent_to_company <- mdy(dat$date_sent_to_company)\n",
    "\n",
    "glimpse(dat)"
   ]
  },
  {
   "attachments": {},
   "cell_type": "markdown",
   "id": "1c1ad48e",
   "metadata": {},
   "source": [
    "## Question 3"
   ]
  },
  {
   "cell_type": "code",
   "execution_count": 20,
   "id": "02b3835d",
   "metadata": {
    "vscode": {
     "languageId": "r"
    }
   },
   "outputs": [
    {
     "name": "stdout",
     "output_type": "stream",
     "text": [
      "Rows: 1,296,353\n",
      "Columns: 20\n",
      "$ ...1                         \u001b[3m\u001b[90m<dbl>\u001b[39m\u001b[23m 0, 1, 2, 3, 4, 5, 6, 7, 8, 9, 10, 11, 12,…\n",
      "$ date_received                \u001b[3m\u001b[90m<date>\u001b[39m\u001b[23m 2019-05-30, 2019-05-30, 2019-05-30, 2019…\n",
      "$ product                      \u001b[3m\u001b[90m<chr>\u001b[39m\u001b[23m \"Credit reporting; credit repair services…\n",
      "$ sub_product                  \u001b[3m\u001b[90m<chr>\u001b[39m\u001b[23m \"Credit reporting\", \"Checking account\", \"…\n",
      "$ issue                        \u001b[3m\u001b[90m<chr>\u001b[39m\u001b[23m \"Incorrect information on your report\", \"…\n",
      "$ sub_issue                    \u001b[3m\u001b[90m<chr>\u001b[39m\u001b[23m \"Old information reappears or never goes …\n",
      "$ consumer_complaint_narrative \u001b[3m\u001b[90m<chr>\u001b[39m\u001b[23m NA, NA, NA, NA, NA, NA, NA, NA, NA, NA, N…\n",
      "$ company_public_response      \u001b[3m\u001b[90m<chr>\u001b[39m\u001b[23m NA, NA, NA, NA, NA, NA, NA, NA, NA, NA, N…\n",
      "$ company                      \u001b[3m\u001b[90m<chr>\u001b[39m\u001b[23m \"Statewide Credit Services Corp.\", \"NAVY …\n",
      "$ state                        \u001b[3m\u001b[90m<chr>\u001b[39m\u001b[23m \"PA\", \"MD\", \"OR\", \"AL\", \"IL\", \"OH\", \"NC\",…\n",
      "$ zip                          \u001b[3m\u001b[90m<chr>\u001b[39m\u001b[23m \"170XX\", \"20746\", \"973XX\", NA, \"606XX\", \"…\n",
      "$ tags                         \u001b[3m\u001b[90m<chr>\u001b[39m\u001b[23m \"Older American\", NA, NA, NA, \"Older Amer…\n",
      "$ consumer_consent_provided    \u001b[3m\u001b[90m<chr>\u001b[39m\u001b[23m NA, NA, NA, NA, NA, NA, NA, NA, NA, NA, N…\n",
      "$ submitted_via                \u001b[3m\u001b[90m<chr>\u001b[39m\u001b[23m \"Web\", \"Web\", \"Web\", \"Web\", \"Web\", \"Web\",…\n",
      "$ date_sent_to_company         \u001b[3m\u001b[90m<date>\u001b[39m\u001b[23m 2019-05-30, 2019-05-30, 2019-05-30, 2019…\n",
      "$ company_response_to_consumer \u001b[3m\u001b[90m<chr>\u001b[39m\u001b[23m \"Closed with explanation\", \"In progress\",…\n",
      "$ timely_response              \u001b[3m\u001b[90m<chr>\u001b[39m\u001b[23m \"Yes\", \"Yes\", \"Yes\", \"Yes\", \"Yes\", \"Yes\",…\n",
      "$ consumer_disputed            \u001b[3m\u001b[90m<chr>\u001b[39m\u001b[23m NA, NA, NA, NA, NA, NA, NA, NA, NA, NA, N…\n",
      "$ complaint_id                 \u001b[3m\u001b[90m<dbl>\u001b[39m\u001b[23m 3256553, 3258621, 3257989, 3257708, 32576…\n",
      "$ wait_time                    \u001b[3m\u001b[90m<drtn>\u001b[39m\u001b[23m 0 days, 0 days, 0 days, 0 days, 0 days, …\n"
     ]
    }
   ],
   "source": [
    "dat <- dat %>% \n",
    "  mutate(wait_time = difftime(dat$date_sent_to_company, dat$date_received, units = \"days\"))\n",
    "\n",
    "glimpse(dat)"
   ]
  },
  {
   "attachments": {},
   "cell_type": "markdown",
   "id": "84533591",
   "metadata": {},
   "source": [
    "## Question 4"
   ]
  },
  {
   "cell_type": "code",
   "execution_count": 21,
   "id": "8b33219c",
   "metadata": {
    "vscode": {
     "languageId": "r"
    }
   },
   "outputs": [
    {
     "data": {
      "text/plain": [
       "  Length    Class     Mode \n",
       " 1296353 difftime  numeric "
      ]
     },
     "metadata": {},
     "output_type": "display_data"
    },
    {
     "data": {
      "text/plain": [
       "Time difference of 3.162897 days"
      ]
     },
     "metadata": {},
     "output_type": "display_data"
    },
    {
     "data": {
      "text/plain": [
       "Time difference of 0 days"
      ]
     },
     "metadata": {},
     "output_type": "display_data"
    },
    {
     "data": {
      "text/plain": [
       "Time difference of 1962 days"
      ]
     },
     "metadata": {},
     "output_type": "display_data"
    },
    {
     "name": "stdout",
     "output_type": "stream",
     "text": [
      "[1] \"Broken down by submitted_via\"\n",
      "[1] \"Web\"\n",
      "Time difference of 2.294994 days\n",
      "Time difference of 0 days\n",
      "Time difference of 1962 days\n",
      "[1] 956918\n",
      "[1] \"Web\"\n",
      "Time difference of 2.294994 days\n",
      "Time difference of 0 days\n",
      "Time difference of 1962 days\n",
      "[1] 956918\n",
      "[1] \"Phone\"\n",
      "Time difference of 4.176102 days\n",
      "Time difference of 1 days\n",
      "Time difference of 1019 days\n",
      "[1] 77245\n",
      "[1] \"Phone\"\n",
      "Time difference of 4.176102 days\n",
      "Time difference of 1 days\n",
      "Time difference of 1019 days\n",
      "[1] 77245\n",
      "[1] \"Referral\"\n",
      "Time difference of 5.808233 days\n",
      "Time difference of 3 days\n",
      "Time difference of 1601 days\n",
      "[1] 174785\n",
      "[1] \"Referral\"\n",
      "Time difference of 5.808233 days\n",
      "Time difference of 3 days\n",
      "Time difference of 1601 days\n",
      "[1] 174785\n",
      "[1] \"Postal mail\"\n",
      "Time difference of 7.005225 days\n",
      "Time difference of 2 days\n",
      "Time difference of 1188 days\n",
      "[1] 67949\n",
      "[1] \"Postal mail\"\n",
      "Time difference of 7.005225 days\n",
      "Time difference of 2 days\n",
      "Time difference of 1188 days\n",
      "[1] 67949\n",
      "[1] \"Fax\"\n",
      "Time difference of 4.584544 days\n",
      "Time difference of 1 days\n",
      "Time difference of 1754 days\n",
      "[1] 19073\n",
      "[1] \"Fax\"\n",
      "Time difference of 4.584544 days\n",
      "Time difference of 1 days\n",
      "Time difference of 1754 days\n",
      "[1] 19073\n",
      "[1] \"Email\"\n",
      "Time difference of 7.561358 days\n",
      "Time difference of 2 days\n",
      "Time difference of 189 days\n",
      "[1] 383\n",
      "[1] \"Email\"\n",
      "Time difference of 7.561358 days\n",
      "Time difference of 2 days\n",
      "Time difference of 189 days\n",
      "[1] 383\n"
     ]
    },
    {
     "data": {
      "text/html": [
       "<table class=\"dataframe\">\n",
       "<caption>A data.frame: 12 × 6</caption>\n",
       "<thead>\n",
       "\t<tr><th scope=col>submitted_via</th><th scope=col>mean_wait_time</th><th scope=col>median_wait_time</th><th scope=col>max_wait_time</th><th scope=col>n</th><th scope=col>timely</th></tr>\n",
       "\t<tr><th scope=col>&lt;chr&gt;</th><th scope=col>&lt;drtn&gt;</th><th scope=col>&lt;drtn&gt;</th><th scope=col>&lt;drtn&gt;</th><th scope=col>&lt;int&gt;</th><th scope=col>&lt;chr&gt;</th></tr>\n",
       "</thead>\n",
       "<tbody>\n",
       "\t<tr><td>Web        </td><td>2.194970 days</td><td>0 days</td><td>1962 days</td><td>931712</td><td>Yes</td></tr>\n",
       "\t<tr><td>Web        </td><td>5.992264 days</td><td>0 days</td><td>1133 days</td><td> 25206</td><td>No </td></tr>\n",
       "\t<tr><td>Phone      </td><td>4.027386 days</td><td>1 days</td><td>1019 days</td><td> 75001</td><td>Yes</td></tr>\n",
       "\t<tr><td>Phone      </td><td>9.146613 days</td><td>3 days</td><td> 587 days</td><td>  2244</td><td>No </td></tr>\n",
       "\t<tr><td>Referral   </td><td>5.767980 days</td><td>3 days</td><td>1601 days</td><td>171524</td><td>Yes</td></tr>\n",
       "\t<tr><td>Referral   </td><td>7.925483 days</td><td>3 days</td><td> 564 days</td><td>  3261</td><td>No </td></tr>\n",
       "\t<tr><td>Postal mail</td><td>6.950344 days</td><td>2 days</td><td>1188 days</td><td> 66719</td><td>Yes</td></tr>\n",
       "\t<tr><td>Postal mail</td><td>9.982114 days</td><td>3 days</td><td> 489 days</td><td>  1230</td><td>No </td></tr>\n",
       "\t<tr><td>Fax        </td><td>4.525889 days</td><td>1 days</td><td>1754 days</td><td> 18618</td><td>Yes</td></tr>\n",
       "\t<tr><td>Fax        </td><td>6.984615 days</td><td>2 days</td><td> 253 days</td><td>   455</td><td>No </td></tr>\n",
       "\t<tr><td>Email      </td><td>7.654155 days</td><td>2 days</td><td> 189 days</td><td>   373</td><td>Yes</td></tr>\n",
       "\t<tr><td>Email      </td><td>4.100000 days</td><td>1 days</td><td>  29 days</td><td>    10</td><td>No </td></tr>\n",
       "</tbody>\n",
       "</table>\n"
      ],
      "text/latex": [
       "A data.frame: 12 × 6\n",
       "\\begin{tabular}{llllll}\n",
       " submitted\\_via & mean\\_wait\\_time & median\\_wait\\_time & max\\_wait\\_time & n & timely\\\\\n",
       " <chr> & <drtn> & <drtn> & <drtn> & <int> & <chr>\\\\\n",
       "\\hline\n",
       "\t Web         & 2.194970 days & 0 days & 1962 days & 931712 & Yes\\\\\n",
       "\t Web         & 5.992264 days & 0 days & 1133 days &  25206 & No \\\\\n",
       "\t Phone       & 4.027386 days & 1 days & 1019 days &  75001 & Yes\\\\\n",
       "\t Phone       & 9.146613 days & 3 days &  587 days &   2244 & No \\\\\n",
       "\t Referral    & 5.767980 days & 3 days & 1601 days & 171524 & Yes\\\\\n",
       "\t Referral    & 7.925483 days & 3 days &  564 days &   3261 & No \\\\\n",
       "\t Postal mail & 6.950344 days & 2 days & 1188 days &  66719 & Yes\\\\\n",
       "\t Postal mail & 9.982114 days & 3 days &  489 days &   1230 & No \\\\\n",
       "\t Fax         & 4.525889 days & 1 days & 1754 days &  18618 & Yes\\\\\n",
       "\t Fax         & 6.984615 days & 2 days &  253 days &    455 & No \\\\\n",
       "\t Email       & 7.654155 days & 2 days &  189 days &    373 & Yes\\\\\n",
       "\t Email       & 4.100000 days & 1 days &   29 days &     10 & No \\\\\n",
       "\\end{tabular}\n"
      ],
      "text/markdown": [
       "\n",
       "A data.frame: 12 × 6\n",
       "\n",
       "| submitted_via &lt;chr&gt; | mean_wait_time &lt;drtn&gt; | median_wait_time &lt;drtn&gt; | max_wait_time &lt;drtn&gt; | n &lt;int&gt; | timely &lt;chr&gt; |\n",
       "|---|---|---|---|---|---|\n",
       "| Web         | 2.194970 days | 0 days | 1962 days | 931712 | Yes |\n",
       "| Web         | 5.992264 days | 0 days | 1133 days |  25206 | No  |\n",
       "| Phone       | 4.027386 days | 1 days | 1019 days |  75001 | Yes |\n",
       "| Phone       | 9.146613 days | 3 days |  587 days |   2244 | No  |\n",
       "| Referral    | 5.767980 days | 3 days | 1601 days | 171524 | Yes |\n",
       "| Referral    | 7.925483 days | 3 days |  564 days |   3261 | No  |\n",
       "| Postal mail | 6.950344 days | 2 days | 1188 days |  66719 | Yes |\n",
       "| Postal mail | 9.982114 days | 3 days |  489 days |   1230 | No  |\n",
       "| Fax         | 4.525889 days | 1 days | 1754 days |  18618 | Yes |\n",
       "| Fax         | 6.984615 days | 2 days |  253 days |    455 | No  |\n",
       "| Email       | 7.654155 days | 2 days |  189 days |    373 | Yes |\n",
       "| Email       | 4.100000 days | 1 days |   29 days |     10 | No  |\n",
       "\n"
      ],
      "text/plain": [
       "   submitted_via mean_wait_time median_wait_time max_wait_time n      timely\n",
       "1  Web           2.194970 days  0 days           1962 days     931712 Yes   \n",
       "2  Web           5.992264 days  0 days           1133 days      25206 No    \n",
       "3  Phone         4.027386 days  1 days           1019 days      75001 Yes   \n",
       "4  Phone         9.146613 days  3 days            587 days       2244 No    \n",
       "5  Referral      5.767980 days  3 days           1601 days     171524 Yes   \n",
       "6  Referral      7.925483 days  3 days            564 days       3261 No    \n",
       "7  Postal mail   6.950344 days  2 days           1188 days      66719 Yes   \n",
       "8  Postal mail   9.982114 days  3 days            489 days       1230 No    \n",
       "9  Fax           4.525889 days  1 days           1754 days      18618 Yes   \n",
       "10 Fax           6.984615 days  2 days            253 days        455 No    \n",
       "11 Email         7.654155 days  2 days            189 days        373 Yes   \n",
       "12 Email         4.100000 days  1 days             29 days         10 No    "
      ]
     },
     "metadata": {},
     "output_type": "display_data"
    }
   ],
   "source": [
    "# display stats for wait_time\n",
    "summary(dat$wait_time)\n",
    "mean(dat$wait_time)\n",
    "median(dat$wait_time)\n",
    "max(dat$wait_time)\n",
    "\n",
    "print(\"Broken down by submitted_via\")\n",
    "wait_time_stats <- data.frame()\n",
    "\n",
    "for (cat in unique(dat$submitted_via)) {\n",
    "    for (timely in unique(dat$timely_response)) {\n",
    "        print(cat)\n",
    "        print(mean(dat[dat$submitted_via == cat,]$wait_time))\n",
    "        print(median(dat[dat$submitted_via == cat,]$wait_time))\n",
    "        print(max(dat[dat$submitted_via == cat,]$wait_time))\n",
    "        print(nrow(dat[dat$submitted_via == cat,]))\n",
    "\n",
    "        timely_df <- dat[dat$submitted_via == cat & dat$timely_response == timely,]\n",
    "        \n",
    "        temp <- data.frame(submitted_via = cat,\n",
    "                        mean_wait_time = mean(timely_df$wait_time),\n",
    "                        median_wait_time = median(timely_df$wait_time),\n",
    "                        max_wait_time = max(timely_df$wait_time),\n",
    "                        n = nrow(timely_df),\n",
    "                        timely = timely)\n",
    "        wait_time_stats <- rbind(wait_time_stats, temp)\n",
    "    }\n",
    "}\n",
    "\n",
    "\n",
    "wait_time_stats"
   ]
  },
  {
   "cell_type": "code",
   "execution_count": 22,
   "id": "a9b036b5",
   "metadata": {
    "vscode": {
     "languageId": "r"
    }
   },
   "outputs": [
    {
     "name": "stderr",
     "output_type": "stream",
     "text": [
      "\u001b[1m\u001b[22mDon't know how to automatically pick scale for object of type \u001b[34m<difftime>\u001b[39m.\n",
      "Defaulting to continuous.\n"
     ]
    },
    {
     "data": {
      "image/png": "[encoded data removed]",
      "text/plain": [
       "plot without title"
      ]
     },
     "metadata": {
      "image/png": {
       "height": 420,
       "width": 420
      }
     },
     "output_type": "display_data"
    }
   ],
   "source": [
    "wait_time_bar <- ggplot(wait_time_stats, aes(x = reorder(submitted_via, mean_wait_time, ), y = mean_wait_time)) +\n",
    "  geom_bar(stat = \"identity\") +\n",
    "  labs(title = \"Mean wait time by submitted_via\",\n",
    "       x = \"submitted_via\",\n",
    "       y = \"mean wait time (days)\")\n",
    "\n",
    "wait_time_bar"
   ]
  },
  {
   "attachments": {},
   "cell_type": "markdown",
   "id": "781f7093",
   "metadata": {},
   "source": [
    "I picked this analysis, using the mean of the data because I knew that the median would be heavily affected by the sheer quantity of complaints with a 0 day wait time. By using the mean, we are able to see the full range of the numbers and where the skew lies, in one number.\n",
    "\n",
    "## Based on the average wait time in the bar chart, using the Web submission interface would be the fastest way to get a response from the company."
   ]
  },
  {
   "attachments": {},
   "cell_type": "markdown",
   "id": "4ed6de14",
   "metadata": {},
   "source": [
    "## Question 5"
   ]
  },
  {
   "cell_type": "code",
   "execution_count": 23,
   "id": "ad03f0f3",
   "metadata": {
    "vscode": {
     "languageId": "r"
    }
   },
   "outputs": [
    {
     "name": "stdout",
     "output_type": "stream",
     "text": [
      "Time difference of 3.075543 days\n",
      "Time difference of 6.570018 days\n",
      "[1] \"Web\"\n",
      "Time difference of 2.19497 days\n",
      "Time difference of 5.992264 days\n",
      "[1] \"Phone\"\n",
      "Time difference of 4.027386 days\n",
      "Time difference of 9.146613 days\n",
      "[1] \"Referral\"\n",
      "Time difference of 5.76798 days\n",
      "Time difference of 7.925483 days\n",
      "[1] \"Postal mail\"\n",
      "Time difference of 6.950344 days\n",
      "Time difference of 9.982114 days\n",
      "[1] \"Fax\"\n",
      "Time difference of 4.525889 days\n",
      "Time difference of 6.984615 days\n",
      "[1] \"Email\"\n",
      "Time difference of 7.654155 days\n",
      "Time difference of 4.1 days\n"
     ]
    },
    {
     "name": "stderr",
     "output_type": "stream",
     "text": [
      "\u001b[1m\u001b[22mDon't know how to automatically pick scale for object of type \u001b[34m<difftime>\u001b[39m.\n",
      "Defaulting to continuous.\n"
     ]
    },
    {
     "data": {
      "image/png": "[encoded data removed]",
      "text/plain": [
       "plot without title"
      ]
     },
     "metadata": {
      "image/png": {
       "height": 420,
       "width": 420
      }
     },
     "output_type": "display_data"
    }
   ],
   "source": [
    "timely_responses = dat[dat$timely_response == \"Yes\",]\n",
    "late_responses = dat[dat$timely_response == \"No\",]\n",
    "# glimpse(late_responses)\n",
    "\n",
    "print(mean(timely_responses$wait_time))\n",
    "print(mean(late_responses$wait_time, na.rm = TRUE))\n",
    "\n",
    "for (cat in unique(dat$submitted_via)) {\n",
    "    print(cat)\n",
    "    print(mean(timely_responses[timely_responses$submitted_via == cat,]$wait_time))\n",
    "    print(mean(late_responses[late_responses$submitted_via == cat,]$wait_time, na.rm = TRUE))\n",
    "}\n",
    "\n",
    "# make a double bar graph of two bars next to each other, one for timely responses and one for late responses\n",
    "\n",
    "\n",
    "wait_time_bar <- ggplot(wait_time_stats, aes(x = submitted_via, fill = timely, y = mean_wait_time)) +\n",
    "  geom_bar(stat = \"identity\", position=\"dodge\") +\n",
    "  labs(title = \"Mean wait time by submitted_via\",\n",
    "       x = \"submitted_via\",\n",
    "       y = \"mean wait time (days)\")\n",
    "wait_time_bar\n"
   ]
  },
  {
   "attachments": {},
   "cell_type": "markdown",
   "id": "27367121",
   "metadata": {},
   "source": [
    "#### I do not think this timely_response column is useful to the customer, considering that the raw numerical values are there for analysis. The timely_response column is not accurate for the email category, and the mean response time is lower for the supposed non-timely responses. I believe it would be better to use the raw numbers without relying on the timely_response column."
   ]
  },
  {
   "cell_type": "markdown",
   "id": "f76442d6-d02e-4f26-b9d6-c3183e1d6929",
   "metadata": {},
   "source": [
    "## Pledge\n",
    "\n",
    "By submitting this work I hereby pledge that this is my own, personal work. I've acknowledged in the designated place at the top of this file all sources that I used to complete said work, including but not limited to: online resources, books, and electronic communications. I've noted all collaboration with fellow students and/or TA's. I did not copy or plagiarize another's work.\n",
    "\n",
    "> As a Boilermaker pursuing academic excellence, I pledge to be honest and true in all that I do. Accountable together – We are Purdue."
   ]
  }
 ],
 "metadata": {
  "kernelspec": {
   "display_name": "f2022-s2023-r",
   "language": "R",
   "name": "f2022-s2023-r"
  },
  "language_info": {
   "codemirror_mode": "r",
   "file_extension": ".r",
   "mimetype": "text/x-r-source",
   "name": "R",
   "pygments_lexer": "r",
   "version": "4.2.2"
  }
 },
 "nbformat": 4,
 "nbformat_minor": 5
}
