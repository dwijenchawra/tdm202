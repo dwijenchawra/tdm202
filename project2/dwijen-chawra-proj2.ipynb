{
 "cells": [
  {
   "attachments": {},
   "cell_type": "markdown",
   "id": "be02a957-7133-4d02-818e-fedeb3cecb05",
   "metadata": {},
   "source": [
    "# Project 2 -- Dwijen Chawra"
   ]
  },
  {
   "cell_type": "markdown",
   "id": "6180e742-8e39-4698-98ff-5b00c8cf8ea0",
   "metadata": {},
   "source": [
    "## Question 1"
   ]
  },
  {
   "cell_type": "code",
   "execution_count": null,
   "id": "49445606-d363-41b4-b479-e319a9a84c01",
   "metadata": {
    "vscode": {
     "languageId": "html"
    }
   },
   "outputs": [],
   "source": [
    "<!-- <header class=\"w-100\" data-qa=\"main-full\"> -->\n",
    "<!-- The keys in the header element are class and data-qa -->\n",
    "<!-- The values in the header element are w-100 and main-full -->\n"
   ]
  },
  {
   "cell_type": "code",
   "execution_count": null,
   "id": "db65d487",
   "metadata": {
    "vscode": {
     "languageId": "html"
    }
   },
   "outputs": [],
   "source": [
    "<!-- <article class=\"grid-article mb-xxl-ns\" data-qa=\"main\"> -->\n",
    "<!-- The keys in the article element are class and data-qa -->\n",
    "<!-- The values in the article element are grid-article mb-xxl-ns and main -->"
   ]
  },
  {
   "cell_type": "markdown",
   "id": "b456e57c-4a12-464b-999a-ef2df5af80c1",
   "metadata": {},
   "source": [
    "Markdown notes and sentences and analysis written here."
   ]
  },
  {
   "cell_type": "markdown",
   "id": "fc601975-35ed-4680-a4e1-0273ee3cc047",
   "metadata": {},
   "source": [
    "## Question 2"
   ]
  },
  {
   "cell_type": "code",
   "execution_count": null,
   "id": "a16336a1-1ef0-41e8-bc7c-49387db27497",
   "metadata": {
    "vscode": {
     "languageId": "html"
    }
   },
   "outputs": [],
   "source": [
    "<!-- xpath for article title -->\n",
    "//title\n",
    "<!-- xpath for article header -->\n",
    "//h2[@data-qa=\"subheadline"
   ]
  },
  {
   "cell_type": "markdown",
   "id": "14dc22d4-ddc3-41cc-a91a-cb0025bc0c80",
   "metadata": {},
   "source": [
    "Markdown notes and sentences and analysis written here."
   ]
  },
  {
   "cell_type": "markdown",
   "id": "8e586edd-ff26-4ce2-8f6b-2424b26f2929",
   "metadata": {},
   "source": [
    "## Question 3"
   ]
  },
  {
   "cell_type": "code",
   "execution_count": 34,
   "id": "bbe0f40d-9655-4653-9ca8-886bdb61cb91",
   "metadata": {},
   "outputs": [],
   "source": [
    "import requests\n",
    "import lxml.html\n",
    "\n",
    "# note that without this header, a website may give you a puzzle to solve\n",
    "my_headers = {'User-Agent': 'Mozilla/5.0'}\n",
    "\n",
    "# scrape the webpage\n",
    "resp = requests.get(\"https://www.washingtonpost.com/health/2022/01/19/free-n95-masks/\", stream=True)\n",
    "# load the webpage into an lxml tree\n",
    "resp.raw.decode_content = True\n",
    "tree = lxml.html.parse(resp.raw)\n",
    "\n"
   ]
  },
  {
   "cell_type": "code",
   "execution_count": 65,
   "id": "2c996dce",
   "metadata": {},
   "outputs": [
    {
     "name": "stdout",
     "output_type": "stream",
     "text": [
      "[]\n",
      "[]\n",
      "['https://www.washingtonpost.com/nation/2021/05/07/coronavirus-covid-live-updates-us/?itid=lk_inline_manual_5&itid=lk_inline_manual_4']\n",
      "['https://www.cdc.gov/niosh/npptl/topics/respirators/disp_part/n95list1.html', 'https://www.washingtonpost.com/news/to-your-health/wp/2018/04/24/inside-the-secret-u-s-stockpile-meant-to-save-us-all-in-a-bioterror-attack/?itid=lk_inline_manual_5']\n",
      "[]\n",
      "[]\n",
      "[]\n",
      "[]\n",
      "[]\n",
      "[]\n",
      "['https://www.washingtonpost.com/health/2022/01/14/cdc-masks-best-protection-guidance/?itid=lk_inline_manual_12']\n",
      "[]\n",
      "['https://www.washingtonpost.com/health/shortages-confusion-and-poor-communication-complicate-coronavirus-preparations/2020/02/25/d9e56396-575d-11ea-9b35-def5a027d470_story.html?itid=lk_inline_manual_14', 'https://www.washingtonpost.com/health/2020/03/19/hospital-workers-battling-coronavirus-turn-bandanas-sports-goggles-homemade-face-shields-amid-shortages/?itid=lk_inline_manual_14']\n",
      "[]\n",
      "[]\n",
      "[]\n",
      "[]\n",
      "[]\n",
      "[]\n",
      "[]\n",
      "[]\n",
      "[]\n",
      "[]\n",
      "[]\n",
      "[]\n",
      "['https://www.cdc.gov/coronavirus/2019-ncov/your-health/effective-masks.html']\n",
      "[]\n",
      "['https://www.washingtonpost.com/coronavirus/?itid=lk_inline_manual_29']\n",
      "[]\n",
      "[]\n",
      "[]\n",
      "[]\n",
      "[]\n",
      "['https://www.washingtonpost.com/health/2022/01/06/biden-advisers-new-covid-strategy/?itid=lk_inline_manual_35']\n",
      "[]\n",
      "[]\n",
      "['https://www.projectn95.org/']\n",
      "[]\n",
      "[]\n",
      "[]\n",
      "[]\n",
      "White House to distribute 400 million free N95 masks starting next week - The Washington Post\n",
      "Adults will be able to get up to three masks each; additional high-quality masks for children ‘in the near future,’ administration official says\n"
     ]
    }
   ],
   "source": [
    "for i in tree.xpath('//div[@data-qa=\"article-body\"]'):\n",
    "    print(i.xpath('p/a/@href'))\n",
    "\n",
    "# get xpath from tree\n",
    "print(tree.xpath(\"//title\")[0].text)\n",
    "print(tree.xpath('//h2[@data-qa=\"subheadline\"]')[0].text)"
   ]
  },
  {
   "cell_type": "markdown",
   "id": "47c6229f-35f7-400c-8366-c442baa5cf47",
   "metadata": {},
   "source": [
    "Markdown notes and sentences and analysis written here."
   ]
  },
  {
   "cell_type": "markdown",
   "id": "da22f29c-d245-4d2b-9fc1-ca14cb6087d9",
   "metadata": {},
   "source": [
    "## Question 4"
   ]
  },
  {
   "cell_type": "code",
   "execution_count": 62,
   "id": "8cffc767-d1c8-4d64-b7dc-f0d2ee8a80d1",
   "metadata": {},
   "outputs": [
    {
     "name": "stdout",
     "output_type": "stream",
     "text": [
      "[]\n",
      "[]\n",
      "[<Element a at 0x14e48678a930>]\n",
      "[<Element a at 0x14e48678a930>, <Element a at 0x14e48678aa20>]\n",
      "[]\n",
      "[]\n",
      "[]\n",
      "[]\n",
      "[]\n",
      "[]\n",
      "[<Element a at 0x14e48678a930>]\n",
      "[]\n",
      "[<Element a at 0x14e48678a930>, <Element a at 0x14e48678aa20>]\n",
      "[]\n",
      "[]\n",
      "[]\n",
      "[]\n",
      "[]\n",
      "[]\n",
      "[]\n",
      "[]\n",
      "[]\n",
      "[]\n",
      "[]\n",
      "[]\n",
      "[<Element a at 0x14e48678a930>]\n",
      "[]\n",
      "[<Element a at 0x14e48678a930>]\n",
      "[]\n",
      "[]\n",
      "[]\n",
      "[]\n",
      "[]\n",
      "[<Element a at 0x14e48678a930>]\n",
      "[]\n",
      "[]\n",
      "[<Element a at 0x14e48678a930>]\n",
      "[]\n",
      "[]\n",
      "[]\n",
      "[]\n",
      "[]\n",
      "None\n"
     ]
    }
   ],
   "source": [
    "import requests\n",
    "import lxml.html\n",
    "\n",
    "def get_article_links():\n",
    "    \"\"\"\n",
    "    Scrape the home page for The Washington\n",
    "    Post and return 5 article links.\n",
    "    \"\"\"\n",
    "\n",
    "\n",
    "    # note that without this header, a website may give you a puzzle to solve\n",
    "    my_headers = {'User-Agent': 'Mozilla/5.0'}\n",
    "\n",
    "    # scrape the webpage\n",
    "    resp = requests.get(\"https://www.washingtonpost.com/health/2022/01/19/free-n95-masks/\", stream=True)\n",
    "    # load the webpage into an lxml tree\n",
    "    resp.raw.decode_content = True\n",
    "    tree = lxml.html.parse(resp.raw)\n",
    "\n",
    "    links = []\n",
    "\n",
    "    for i in tree.xpath('//div[@data-qa=\"article-body\"]'):\n",
    "        print(i.xpath('p/a[@href]'))\n",
    "\n",
    "\n",
    "    return links\n",
    "\n",
    "print(get_article_links())\n",
    "\n",
    "\n",
    "\n",
    "\n",
    "print(tree.xpath('//div[@data-qa=\"article-body\"]')[0].text)\n",
    "\n"
   ]
  },
  {
   "cell_type": "markdown",
   "id": "0d552245-b4d6-474a-9cc9-fa7b8e674d55",
   "metadata": {},
   "source": [
    "Markdown notes and sentences and analysis written here."
   ]
  },
  {
   "cell_type": "markdown",
   "id": "88c9cdac-3e92-498f-83fa-e089bfc44ac8",
   "metadata": {},
   "source": [
    "## Question 5"
   ]
  },
  {
   "cell_type": "code",
   "execution_count": null,
   "id": "d370d7c9-06db-42b9-b75f-240481a5c491",
   "metadata": {},
   "outputs": [],
   "source": [
    "# code here"
   ]
  },
  {
   "cell_type": "markdown",
   "id": "9fbf00fb-2418-460f-ae94-2a32b0c28952",
   "metadata": {},
   "source": [
    "Markdown notes and sentences and analysis written here."
   ]
  },
  {
   "cell_type": "markdown",
   "id": "f76442d6-d02e-4f26-b9d6-c3183e1d6929",
   "metadata": {},
   "source": [
    "## Pledge\n",
    "\n",
    "By submitting this work I hereby pledge that this is my own, personal work. I've acknowledged in the designated place at the top of this file all sources that I used to complete said work, including but not limited to: online resources, books, and electronic communications. I've noted all collaboration with fellow students and/or TA's. I did not copy or plagiarize another's work.\n",
    "\n",
    "> As a Boilermaker pursuing academic excellence, I pledge to be honest and true in all that I do. Accountable together – We are Purdue."
   ]
  }
 ],
 "metadata": {
  "kernelspec": {
   "display_name": "f2022-s2023",
   "language": "python",
   "name": "f2022-s2023"
  },
  "language_info": {
   "codemirror_mode": {
    "name": "ipython",
    "version": 3
   },
   "file_extension": ".py",
   "mimetype": "text/x-python",
   "name": "python",
   "nbconvert_exporter": "python",
   "pygments_lexer": "ipython3",
   "version": "3.10.7"
  }
 },
 "nbformat": 4,
 "nbformat_minor": 5
}
