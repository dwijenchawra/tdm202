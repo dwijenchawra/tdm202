{
 "cells": [
  {
   "attachments": {},
   "cell_type": "markdown",
   "id": "be02a957-7133-4d02-818e-fedeb3cecb05",
   "metadata": {},
   "source": [
    "# Project 12 -- Dwijen Chawra"
   ]
  },
  {
   "cell_type": "markdown",
   "id": "6180e742-8e39-4698-98ff-5b00c8cf8ea0",
   "metadata": {},
   "source": [
    "## Question 1"
   ]
  },
  {
   "cell_type": "code",
   "execution_count": 3,
   "id": "f39e3953",
   "metadata": {
    "vscode": {
     "languageId": "r"
    }
   },
   "outputs": [],
   "source": [
    "library(tidyverse)\n",
    "library(ggplot2)"
   ]
  },
  {
   "cell_type": "code",
   "execution_count": 8,
   "id": "3ac49a16",
   "metadata": {
    "vscode": {
     "languageId": "r"
    }
   },
   "outputs": [
    {
     "name": "stderr",
     "output_type": "stream",
     "text": [
      "\u001b[1mRows: \u001b[22m\u001b[34m358873\u001b[39m \u001b[1mColumns: \u001b[22m\u001b[34m10\u001b[39m\n",
      "\u001b[36m──\u001b[39m \u001b[1mColumn specification\u001b[22m \u001b[36m────────────────────────────────────────────────────────\u001b[39m\n",
      "\u001b[1mDelimiter:\u001b[22m \",\"\n",
      "\u001b[31mchr\u001b[39m (6): name, state, country, style, availability, notes\n",
      "\u001b[32mdbl\u001b[39m (3): id, brewery_id, abv\n",
      "\u001b[33mlgl\u001b[39m (1): retired\n",
      "\n",
      "\u001b[36mℹ\u001b[39m Use `spec()` to retrieve the full column specification for this data.\n",
      "\u001b[36mℹ\u001b[39m Specify the column types or set `show_col_types = FALSE` to quiet this message.\n",
      "\u001b[1mRows: \u001b[22m\u001b[34m999999\u001b[39m \u001b[1mColumns: \u001b[22m\u001b[34m10\u001b[39m\n",
      "\u001b[36m──\u001b[39m \u001b[1mColumn specification\u001b[22m \u001b[36m────────────────────────────────────────────────────────\u001b[39m\n",
      "\u001b[1mDelimiter:\u001b[22m \",\"\n",
      "\u001b[31mchr\u001b[39m  (2): username, text\n",
      "\u001b[32mdbl\u001b[39m  (7): beer_id, look, smell, taste, feel, overall, score\n",
      "\u001b[34mdate\u001b[39m (1): date\n",
      "\n",
      "\u001b[36mℹ\u001b[39m Use `spec()` to retrieve the full column specification for this data.\n",
      "\u001b[36mℹ\u001b[39m Specify the column types or set `show_col_types = FALSE` to quiet this message.\n"
     ]
    },
    {
     "name": "stdout",
     "output_type": "stream",
     "text": [
      "[1] \"printing the layout of beers data\"\n",
      "Rows: 358,873\n",
      "Columns: 10\n",
      "$ id           \u001b[3m\u001b[90m<dbl>\u001b[39m\u001b[23m 202522, 82352, 214879, 320009, 246438, 8036, 108605, 3453…\n",
      "$ name         \u001b[3m\u001b[90m<chr>\u001b[39m\u001b[23m \"Olde Cogitator\", \"Konrads Stout Russian Imperial Stout\",…\n",
      "$ brewery_id   \u001b[3m\u001b[90m<dbl>\u001b[39m\u001b[23m 2199, 18604, 44306, 4378, 44617, 3469, 22598, 45567, 1120…\n",
      "$ state        \u001b[3m\u001b[90m<chr>\u001b[39m\u001b[23m \"CA\", NA, \"IN\", \"WA\", \"PA\", NA, \"CA\", NA, \"AR\", \"SK\", NA,…\n",
      "$ country      \u001b[3m\u001b[90m<chr>\u001b[39m\u001b[23m \"US\", \"NO\", \"US\", \"US\", \"US\", \"JP\", \"US\", \"IT\", \"US\", \"CA…\n",
      "$ style        \u001b[3m\u001b[90m<chr>\u001b[39m\u001b[23m \"English Oatmeal Stout\", \"Russian Imperial Stout\", \"Scott…\n",
      "$ availability \u001b[3m\u001b[90m<chr>\u001b[39m\u001b[23m \"Rotating\", \"Rotating\", \"Year-round\", \"Winter\", \"Rotating…\n",
      "$ abv          \u001b[3m\u001b[90m<dbl>\u001b[39m\u001b[23m 7.3, 10.4, 4.0, 8.7, 5.1, 5.5, 5.6, 6.5, 4.3, 7.5, 5.0, 3…\n",
      "$ notes        \u001b[3m\u001b[90m<chr>\u001b[39m\u001b[23m \"No notes at this time.\", \"No notes at this time.\", \"No n…\n",
      "$ retired      \u001b[3m\u001b[90m<lgl>\u001b[39m\u001b[23m FALSE, FALSE, TRUE, FALSE, FALSE, TRUE, FALSE, FALSE, FAL…\n",
      "[1] \"printing the layout of reviews data\"\n",
      "Rows: 999,999\n",
      "Columns: 10\n",
      "$ beer_id  \u001b[3m\u001b[90m<dbl>\u001b[39m\u001b[23m 271781, 125646, 125646, 125646, 125646, 125646, 125646, 12564…\n",
      "$ username \u001b[3m\u001b[90m<chr>\u001b[39m\u001b[23m \"bluejacket74\", \"_dirty_\", \"CJDUBYA\", \"GratefulBeerGuy\", \"Luk…\n",
      "$ date     \u001b[3m\u001b[90m<date>\u001b[39m\u001b[23m 2017-03-17, 2017-12-21, 2017-12-21, 2017-12-20, 2017-12-20, …\n",
      "$ text     \u001b[3m\u001b[90m<chr>\u001b[39m\u001b[23m \"   750 ml bottle, 2016 vintage, bottle #304 of 360. Served i…\n",
      "$ look     \u001b[3m\u001b[90m<dbl>\u001b[39m\u001b[23m 4.00, 4.50, 4.75, 4.75, 4.25, 4.50, 4.75, 4.75, 5.00, 4.75, 4…\n",
      "$ smell    \u001b[3m\u001b[90m<dbl>\u001b[39m\u001b[23m 4.00, 4.50, 4.75, 4.75, 4.50, 4.75, 4.50, 4.50, 4.75, 4.50, 4…\n",
      "$ taste    \u001b[3m\u001b[90m<dbl>\u001b[39m\u001b[23m 4.00, 4.50, 4.75, 4.50, 4.25, 5.00, 4.75, 4.50, 4.50, 4.50, 4…\n",
      "$ feel     \u001b[3m\u001b[90m<dbl>\u001b[39m\u001b[23m 4.25, 4.50, 4.75, 4.50, 4.25, 5.00, 4.75, 4.50, 4.50, 4.75, 4…\n",
      "$ overall  \u001b[3m\u001b[90m<dbl>\u001b[39m\u001b[23m 4.00, 4.50, 4.75, 4.50, 4.25, 5.00, 4.75, 4.50, 4.50, 4.50, 4…\n",
      "$ score    \u001b[3m\u001b[90m<dbl>\u001b[39m\u001b[23m 4.03, 4.50, 4.75, 4.58, 4.31, 4.91, 4.69, 4.52, 4.59, 4.54, 4…\n",
      "[1] \"printing the columns in the reviews data\"\n"
     ]
    },
    {
     "data": {
      "text/html": [
       "<style>\n",
       ".list-inline {list-style: none; margin:0; padding: 0}\n",
       ".list-inline>li {display: inline-block}\n",
       ".list-inline>li:not(:last-child)::after {content: \"\\00b7\"; padding: 0 .5ex}\n",
       "</style>\n",
       "<ol class=list-inline><li>'beer_id'</li><li>'username'</li><li>'date'</li><li>'text'</li><li>'look'</li><li>'smell'</li><li>'taste'</li><li>'feel'</li><li>'overall'</li><li>'score'</li></ol>\n"
      ],
      "text/latex": [
       "\\begin{enumerate*}\n",
       "\\item 'beer\\_id'\n",
       "\\item 'username'\n",
       "\\item 'date'\n",
       "\\item 'text'\n",
       "\\item 'look'\n",
       "\\item 'smell'\n",
       "\\item 'taste'\n",
       "\\item 'feel'\n",
       "\\item 'overall'\n",
       "\\item 'score'\n",
       "\\end{enumerate*}\n"
      ],
      "text/markdown": [
       "1. 'beer_id'\n",
       "2. 'username'\n",
       "3. 'date'\n",
       "4. 'text'\n",
       "5. 'look'\n",
       "6. 'smell'\n",
       "7. 'taste'\n",
       "8. 'feel'\n",
       "9. 'overall'\n",
       "10. 'score'\n",
       "\n",
       "\n"
      ],
      "text/plain": [
       " [1] \"beer_id\"  \"username\" \"date\"     \"text\"     \"look\"     \"smell\"   \n",
       " [7] \"taste\"    \"feel\"     \"overall\"  \"score\"   "
      ]
     },
     "metadata": {},
     "output_type": "display_data"
    }
   ],
   "source": [
    "#  this is the beers sample data set\n",
    "# /anvil/projects/tdm/data/beer/beers.csv\n",
    "# /anvil/projects/tdm/data/beer/reviews_sample.csv\n",
    "\n",
    "\n",
    "\n",
    "# 1. Load the data\n",
    "beers <- read_csv(\"/anvil/projects/tdm/data/beer/beers.csv\")\n",
    "reviews <- read_csv(\"/anvil/projects/tdm/data/beer/reviews_sample.csv\")\n",
    "\n",
    "# print the layout of the data\n",
    "print(\"printing the layout of beers data\")\n",
    "glimpse(beers)\n",
    "\n",
    "print(\"printing the layout of reviews data\")\n",
    "glimpse(reviews)\n",
    "\n",
    "# print out the columns in the reviews data\n",
    "print(\"printing the columns in the reviews data\")\n",
    "colnames(reviews)"
   ]
  },
  {
   "cell_type": "code",
   "execution_count": 7,
   "id": "c55fdf36",
   "metadata": {
    "vscode": {
     "languageId": "r"
    }
   },
   "outputs": [
    {
     "name": "stderr",
     "output_type": "stream",
     "text": [
      "\u001b[1m\u001b[22m`stat_bin()` using `bins = 30`. Pick better value with `binwidth`.\n",
      "Warning message:\n",
      "“\u001b[1m\u001b[22mRemoved 407268 rows containing non-finite values (`stat_bin()`).”\n"
     ]
    },
    {
     "data": {
      "image/png": "[encoded data removed]",
      "text/plain": [
       "plot without title"
      ]
     },
     "metadata": {
      "image/png": {
       "height": 420,
       "width": 420
      }
     },
     "output_type": "display_data"
    }
   ],
   "source": [
    " # print out basic statistics of the data\n",
    " mean(reviews$look)\n",
    " "
   ]
  },
  {
   "cell_type": "markdown",
   "id": "fc601975-35ed-4680-a4e1-0273ee3cc047",
   "metadata": {},
   "source": [
    "## Question 2"
   ]
  },
  {
   "cell_type": "markdown",
   "id": "8e586edd-ff26-4ce2-8f6b-2424b26f2929",
   "metadata": {},
   "source": [
    "## Question 3"
   ]
  },
  {
   "cell_type": "markdown",
   "id": "da22f29c-d245-4d2b-9fc1-ca14cb6087d9",
   "metadata": {},
   "source": [
    "## Question 4"
   ]
  },
  {
   "cell_type": "markdown",
   "id": "88c9cdac-3e92-498f-83fa-e089bfc44ac8",
   "metadata": {},
   "source": [
    "## Question 5"
   ]
  },
  {
   "cell_type": "markdown",
   "id": "f76442d6-d02e-4f26-b9d6-c3183e1d6929",
   "metadata": {},
   "source": [
    "## Pledge\n",
    "\n",
    "By submitting this work I hereby pledge that this is my own, personal work. I've acknowledged in the designated place at the top of this file all sources that I used to complete said work, including but not limited to: online resources, books, and electronic communications. I've noted all collaboration with fellow students and/or TA's. I did not copy or plagiarize another's work.\n",
    "\n",
    "> As a Boilermaker pursuing academic excellence, I pledge to be honest and true in all that I do. Accountable together – We are Purdue."
   ]
  }
 ],
 "metadata": {
  "kernelspec": {
   "display_name": "f2022-s2023-r",
   "language": "R",
   "name": "f2022-s2023-r"
  },
  "language_info": {
   "codemirror_mode": "r",
   "file_extension": ".r",
   "mimetype": "text/x-r-source",
   "name": "R",
   "pygments_lexer": "r",
   "version": "4.2.2"
  }
 },
 "nbformat": 4,
 "nbformat_minor": 5
}
